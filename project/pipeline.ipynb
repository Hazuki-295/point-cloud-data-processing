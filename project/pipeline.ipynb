{
 "cells": [
  {
   "cell_type": "markdown",
   "metadata": {
    "collapsed": true,
    "pycharm": {
     "name": "#%% md\n"
    }
   },
   "source": [
    "# Environment Setup"
   ]
  },
  {
   "cell_type": "code",
   "execution_count": null,
   "metadata": {
    "pycharm": {
     "name": "#%%\n"
    }
   },
   "outputs": [],
   "source": [
    "import math\n",
    "import os\n",
    "import sys\n",
    "\n",
    "import matplotlib.pyplot as plt\n",
    "import numpy as np\n",
    "import open3d as o3d\n",
    "\n",
    "# Python version\n",
    "assert sys.version_info >= (3, 8)\n",
    "# Open3D version\n",
    "assert o3d.__version__ >= \"0.17.0\""
   ]
  },
  {
   "cell_type": "code",
   "execution_count": null,
   "metadata": {
    "pycharm": {
     "name": "#%%\n"
    }
   },
   "outputs": [],
   "source": [
    "# Point cloud file I/O\n",
    "filename = \"data/input/iScan-Pcd-1-1.ply\"\n",
    "base_name, extension = os.path.splitext(os.path.basename(filename))\n",
    "\n",
    "output_path = \"data/output/\" + base_name\n",
    "os.makedirs(output_path, exist_ok=True)"
   ]
  },
  {
   "cell_type": "markdown",
   "metadata": {
    "pycharm": {
     "name": "#%% md\n"
    }
   },
   "source": [
    "# 1. Point Cloud Filtering\n",
    "\n",
    "## Step 1. Down-sampling"
   ]
  },
  {
   "cell_type": "code",
   "execution_count": null,
   "metadata": {
    "pycharm": {
     "name": "#%%\n"
    }
   },
   "outputs": [],
   "source": [
    "def down_sample(input_filename, output_filename, every_k_points=10):\n",
    "    # Load the input point cloud file\n",
    "    pcd = o3d.t.io.read_point_cloud(input_filename)\n",
    "\n",
    "    # Function uniformly down-samples the point cloud, evenly select 1 point for every k points\n",
    "    down_sampled_pcd = pcd.uniform_down_sample(every_k_points)\n",
    "\n",
    "    # Save the down-sampled point cloud to an output file\n",
    "    o3d.t.io.write_point_cloud(output_filename, down_sampled_pcd, write_ascii=False)"
   ]
  },
  {
   "cell_type": "code",
   "execution_count": null,
   "metadata": {
    "pycharm": {
     "name": "#%%\n"
    }
   },
   "outputs": [],
   "source": [
    "# Perform down sampling\n",
    "down_sampled_filename = os.path.join(output_path, base_name + \" - downsampled\" + extension)\n",
    "down_sample(filename, down_sampled_filename)"
   ]
  },
  {
   "cell_type": "markdown",
   "metadata": {},
   "source": [
    "## Step 2. Outlier removal"
   ]
  },
  {
   "cell_type": "code",
   "execution_count": null,
   "outputs": [],
   "source": [
    "# Input point cloud file\n",
    "down_sampled_filename = os.path.join(output_path, base_name + \" - downsampled\" + extension)"
   ],
   "metadata": {
    "collapsed": false,
    "pycharm": {
     "name": "#%%\n"
    }
   }
  },
  {
   "cell_type": "code",
   "execution_count": null,
   "metadata": {
    "pycharm": {
     "name": "#%%\n"
    }
   },
   "outputs": [],
   "source": [
    "def outlier_removal(input_filename, output_filename, nb_neighbors=20, std_ratio=2.0):\n",
    "    # Load the input point cloud file\n",
    "    pcd = o3d.t.io.read_point_cloud(input_filename)\n",
    "\n",
    "    # Statistical outlier removal\n",
    "    filtered_pcd, mask = pcd.remove_statistical_outliers(nb_neighbors, std_ratio)\n",
    "\n",
    "    # Color outliers in red\n",
    "    outlier = pcd.select_by_mask(mask, invert=True)\n",
    "    outlier.paint_uniform_color([1.0, 0.0, 0.0])\n",
    "    print(f\"Remove {outlier.point.positions.shape[0]} outliers.\")\n",
    "\n",
    "    # Save the outlier for comparison\n",
    "    outlier_filename = os.path.join(output_path, base_name + \" - outlier\" + extension)\n",
    "    o3d.t.io.write_point_cloud(outlier_filename, outlier, write_ascii=False)\n",
    "\n",
    "    # Save the filtered point cloud to an output file\n",
    "    o3d.t.io.write_point_cloud(output_filename, filtered_pcd, write_ascii=False)"
   ]
  },
  {
   "cell_type": "code",
   "execution_count": null,
   "outputs": [],
   "source": [
    "# Perform outlier removal\n",
    "filtered_filename = os.path.join(output_path, base_name + \" - filtered\" + extension)\n",
    "outlier_removal(down_sampled_filename, filtered_filename)"
   ],
   "metadata": {
    "collapsed": false,
    "pycharm": {
     "name": "#%%\n"
    }
   }
  },
  {
   "cell_type": "markdown",
   "metadata": {
    "pycharm": {
     "name": "#%% md\n"
    }
   },
   "source": [
    "# 2. Point Cloud Segmentation\n",
    "\n",
    "## Step 1. DBSCAN clustering"
   ]
  },
  {
   "cell_type": "code",
   "execution_count": null,
   "metadata": {
    "pycharm": {
     "name": "#%%\n"
    }
   },
   "outputs": [],
   "source": [
    "# Input point cloud file\n",
    "filtered_filename = os.path.join(output_path, base_name + \" - filtered\" + extension)"
   ]
  },
  {
   "cell_type": "code",
   "execution_count": null,
   "metadata": {
    "pycharm": {
     "name": "#%%\n"
    }
   },
   "outputs": [],
   "source": [
    "from collections import Counter\n",
    "\n",
    "\n",
    "def dbscan_clustering(input_filename, output_filename, eps=0.10, min_points=5):\n",
    "    # Load the input point cloud file\n",
    "    pcd = o3d.t.io.read_point_cloud(input_filename)\n",
    "    print(pcd.point, '\\n')\n",
    "\n",
    "    # Mask by intensity to acquire low intensity points\n",
    "    intensity_threshold = 50\n",
    "    mask = np.where(pcd.point.intensity.numpy() <= intensity_threshold, True, False).flatten()\n",
    "\n",
    "    # Convert mask to index\n",
    "    index_of_mask = [i for i, boolean_val in enumerate(mask) if boolean_val]\n",
    "\n",
    "    # Extract low intensity points, then perform DBSCAN on them\n",
    "    low_intensity_pcd = pcd.select_by_mask(mask)\n",
    "    labels = low_intensity_pcd.cluster_dbscan(eps, min_points)\n",
    "    labels = labels.numpy()\n",
    "\n",
    "    n_clusters = labels.max() + 1\n",
    "    print(f\"DBSCAN clustering return {n_clusters} clusters.\\n\")\n",
    "\n",
    "    # Clusters will be labeled in a way that cluster with the most points is labeled 1\n",
    "    if n_clusters >= 2:\n",
    "        counter = Counter(labels)\n",
    "\n",
    "        # Remove noise that be labeled -1\n",
    "        del counter[-1]\n",
    "\n",
    "        # Sort by count\n",
    "        sorted_items = sorted(counter.items(), key=lambda x: x[1], reverse=True)\n",
    "        rank = [item[0] for item in sorted_items]\n",
    "\n",
    "        # Add cluster attribute to the input point cloud\n",
    "        cluster = np.zeros(len(mask)).astype(np.int32)\n",
    "        for index, val in enumerate(labels):\n",
    "            if val != -1:\n",
    "                cluster[index_of_mask[index]] = rank.index(val) + 1\n",
    "        pcd.point.cluster = np.reshape(cluster, (len(cluster), 1))\n",
    "        print(pcd.point)\n",
    "\n",
    "        # Save the clustered point cloud to an output file\n",
    "        o3d.t.io.write_point_cloud(output_filename, pcd, write_ascii=False)\n",
    "\n",
    "    else:\n",
    "        print(\"Warning: DBSCAN clustering return less than 2 clusters.\")"
   ]
  },
  {
   "cell_type": "code",
   "execution_count": null,
   "metadata": {
    "pycharm": {
     "name": "#%%\n"
    }
   },
   "outputs": [],
   "source": [
    "# Perform DBSCAN clustering\n",
    "clustered_filename = os.path.join(output_path, base_name + \" - clustered\" + extension)\n",
    "dbscan_clustering(filtered_filename, clustered_filename)"
   ]
  },
  {
   "cell_type": "markdown",
   "metadata": {
    "pycharm": {
     "name": "#%% md\n"
    }
   },
   "source": [
    "## Step 2. Curve fitting"
   ]
  },
  {
   "cell_type": "code",
   "execution_count": null,
   "metadata": {
    "pycharm": {
     "name": "#%%\n"
    }
   },
   "outputs": [],
   "source": [
    "# Input point cloud file\n",
    "clustered_filename = os.path.join(output_path, base_name + \" - clustered\" + extension)"
   ]
  },
  {
   "cell_type": "code",
   "execution_count": null,
   "outputs": [],
   "source": [
    "from scipy import interpolate\n",
    "from scipy.spatial import cKDTree\n",
    "\n",
    "# B-spline representation of centre curve\n",
    "curve_point_centre = []\n",
    "\n",
    "\n",
    "def curve_fitting(input_filename):\n",
    "    global curve_point_centre\n",
    "\n",
    "    # Load the input point cloud file\n",
    "    pcd = o3d.t.io.read_point_cloud(input_filename)\n",
    "\n",
    "    # Step 1. Fit two curves on both left and right\n",
    "    # Use cluster attribute to extrack rail points\n",
    "    cluster = pcd.point.cluster.numpy()\n",
    "    left_rail_mask = (cluster == 1).flatten()\n",
    "    right_rail_mask = (cluster == 2).flatten()\n",
    "\n",
    "    left_rail = pcd.select_by_mask(left_rail_mask)\n",
    "    point_left = left_rail.point.positions.numpy()\n",
    "    point_num_left = point_left.shape[0]\n",
    "    print(\"Left rail points:\", point_num_left)\n",
    "\n",
    "    right_rail = pcd.select_by_mask(right_rail_mask)\n",
    "    point_right = right_rail.point.positions.numpy()\n",
    "    point_num_right = point_right.shape[0]\n",
    "    print(\"Right rail points:\", point_num_right, '\\n')\n",
    "\n",
    "    scalar_factor = point_num_left / point_num_right\n",
    "    print(\"scalar_factor:\", scalar_factor, '\\n')\n",
    "\n",
    "    point_left = np.transpose(point_left)  # (n, 3) -> (3, n)\n",
    "    point_right = np.transpose(point_right)\n",
    "\n",
    "    # Find the B-spline representation of an 3-D curve\n",
    "    tck_left, _ = interpolate.splprep(point_left)\n",
    "    tck_right, _ = interpolate.splprep(point_right)\n",
    "\n",
    "    u_left = np.linspace(0, 1, point_num_left)\n",
    "    knots_left = interpolate.splev(u_left, tck_left)\n",
    "    curve_point_left = np.column_stack((knots_left[0], knots_left[1], knots_left[2]))\n",
    "\n",
    "    u_right = np.linspace(0, 1, point_num_right)\n",
    "    knots_right = interpolate.splev(u_right, tck_right)\n",
    "    curve_point_right = np.column_stack((knots_right[0], knots_right[1], knots_right[2]))\n",
    "\n",
    "    # Step 2. Calculate the centre line, then fit a curve on it\n",
    "    # Build a kd-tree from the left curve points\n",
    "    kdtree = cKDTree(curve_point_left)\n",
    "\n",
    "    # Query the kd-tree to find the nearest neighbor and its distance\n",
    "    distance, nearest_index = kdtree.query(curve_point_right)\n",
    "\n",
    "    # Get the nearest point from the left curve points\n",
    "    nearest_point = curve_point_left[nearest_index]\n",
    "\n",
    "    # Points on the centre line\n",
    "    point_centre = (nearest_point + curve_point_right) / 2\n",
    "    point_centre = np.transpose(point_centre)  # (n, 3) -> (3, n)\n",
    "\n",
    "    # Fit a curve on centre line\n",
    "    tck_centre, _ = interpolate.splprep(point_centre)\n",
    "\n",
    "    u_centre = np.linspace(0, 1, point_num_right)\n",
    "    knots_centre = interpolate.splev(u_centre, tck_centre)\n",
    "    curve_point_centre = np.column_stack((knots_centre[0], knots_centre[1], knots_centre[2]))\n",
    "\n",
    "    # Step 3. Store three fitted curves to a separate file\n",
    "    point = np.vstack((curve_point_left, curve_point_right, curve_point_centre))\n",
    "\n",
    "    colors = np.vstack((np.full((curve_point_left.shape[0], 3), [0.0, 0.0, 1.0]),  # color in blue\n",
    "                        np.full((curve_point_right.shape[0], 3), [0.0, 1.0, 0.0]),  # color in green\n",
    "                        np.full((curve_point_centre.shape[0], 3), [1.0, 0.0, 0.0])))  # color in red\n",
    "\n",
    "    curve = np.vstack((np.full((curve_point_left.shape[0], 1), 1),\n",
    "                       np.full((curve_point_right.shape[0], 1), 2),\n",
    "                       np.full((curve_point_centre.shape[0], 1), 3))).astype(np.uint8)\n",
    "\n",
    "    pcd_curve = o3d.t.geometry.PointCloud()\n",
    "    pcd_curve.point.positions = point\n",
    "    pcd_curve.point.colors = colors\n",
    "    pcd_curve.point.curve = curve\n",
    "\n",
    "    # Save the fitted curves for comparison\n",
    "    curve_filename = os.path.join(output_path, base_name + \" - curve\" + extension)\n",
    "    o3d.t.io.write_point_cloud(curve_filename, pcd_curve, write_ascii=False)\n",
    "\n",
    "    return tck_centre, u_centre"
   ],
   "metadata": {
    "collapsed": false,
    "pycharm": {
     "name": "#%%\n"
    }
   }
  },
  {
   "cell_type": "code",
   "execution_count": null,
   "outputs": [],
   "source": [
    "tck_curve, u_curve = curve_fitting(clustered_filename)  # tck, u\n",
    "print(\"Centre curve parameters:\", end=\" \")\n",
    "print(f\"tck_curve[0] - t: {tck_curve[0]}\\n\")\n",
    "print(f\"tck_curve[1] - c: {np.array(tck_curve[1])}\\n\")\n",
    "print(f\"tck_curve[2] - k: {tck_curve[2]}\\n\")\n",
    "print(f\"u_curve: {len(u_curve)} {u_curve}\")"
   ],
   "metadata": {
    "collapsed": false,
    "pycharm": {
     "name": "#%%\n"
    }
   }
  },
  {
   "cell_type": "markdown",
   "source": [
    "## 3. Cross-Section Extraction"
   ],
   "metadata": {
    "collapsed": false,
    "pycharm": {
     "name": "#%% md\n"
    }
   }
  },
  {
   "cell_type": "code",
   "execution_count": null,
   "outputs": [],
   "source": [
    "def segment_ground(input_filename, distance_threshold=0.05, ransac_n=3, num_iterations=100):\n",
    "    pcd = o3d.t.io.read_point_cloud(input_filename)\n",
    "    plane_model, _ = pcd.segment_plane(distance_threshold, ransac_n, num_iterations)\n",
    "    return plane_model"
   ],
   "metadata": {
    "collapsed": false,
    "pycharm": {
     "name": "#%%\n"
    }
   }
  },
  {
   "cell_type": "code",
   "execution_count": null,
   "outputs": [],
   "source": [
    "a, b, c, d = plane = segment_ground(clustered_filename).numpy()  # ax + by + cz + d = 0\n",
    "print(\"plane parameters:\", plane)"
   ],
   "metadata": {
    "collapsed": false,
    "pycharm": {
     "name": "#%%\n"
    }
   }
  },
  {
   "cell_type": "markdown",
   "source": [
    "## Step 1. Coordinate Transformation"
   ],
   "metadata": {
    "collapsed": false,
    "pycharm": {
     "name": "#%% md\n"
    }
   }
  },
  {
   "cell_type": "code",
   "execution_count": null,
   "outputs": [],
   "source": [
    "# Calculate coordinates in the new coordinate system\n",
    "def coordinate_transformation(input_filename, output_filename):\n",
    "    global curve_point_centre\n",
    "\n",
    "    # Load the input point cloud file\n",
    "    pcd = o3d.t.io.read_point_cloud(input_filename)\n",
    "\n",
    "    # Coordinates in original coordinate system\n",
    "    coordinates = pcd.point.positions.numpy()\n",
    "\n",
    "    # Prepare for coordinate calculation\n",
    "    normal_z = np.array([a, b, c])\n",
    "    if np.dot(normal_z, curve_point_centre[0]) + d < 0:  # centre curve points should have z > 0\n",
    "        normal_z = -normal_z\n",
    "    magnitude_z = np.linalg.norm(normal_z)\n",
    "\n",
    "    diff = np.diff(curve_point_centre, axis=0)\n",
    "    diff = np.insert(diff, 0, [0., 0., 0.], axis=0)\n",
    "    distances = np.linalg.norm(diff, axis=1)\n",
    "    cumulate_y = np.cumsum(distances)\n",
    "\n",
    "    print(f\"curve_point_centre: {curve_point_centre.shape}\\n{curve_point_centre[:3]}\\n\")\n",
    "    print(f\"diff: {diff.shape}\\n{diff[:3]}\\n\")\n",
    "    print(f\"distances: {distances.shape}\\n{distances[:3]}\\n\")\n",
    "    print(f\"cumulate_y: {cumulate_y.shape}\\n{cumulate_y[:3]}\\n\")\n",
    "\n",
    "    kdtree_centre = cKDTree(curve_point_centre)\n",
    "    distance, nearest_index = kdtree_centre.query(coordinates)\n",
    "    nearest_point = curve_point_centre[nearest_index]\n",
    "\n",
    "    PQ = coordinates - nearest_point\n",
    "    magnitude_PQ = distance\n",
    "    cross_product = np.cross(normal_z, PQ)\n",
    "    sin_theta = np.linalg.norm(cross_product, axis=1) / (magnitude_z * magnitude_PQ)\n",
    "\n",
    "    normal_y = diff\n",
    "    dot_product = np.sum(cross_product * normal_y[nearest_index], axis=1)\n",
    "    sign_x = np.where(dot_product > 0, 1, -1)\n",
    "\n",
    "    print(f\"cross_product: {cross_product.shape}\\n{cross_product[:3]}\\n\")\n",
    "    print(f\"normal_y: {normal_y.shape}\\n{normal_y[:3]}\\n\")\n",
    "    print(f\"dot_product: {dot_product.shape}\\n{dot_product[:3]}\\n\")\n",
    "\n",
    "    # Coordinate calculation\n",
    "    x = magnitude_PQ * sin_theta * sign_x\n",
    "    y = cumulate_y[nearest_index]\n",
    "    z = (np.dot(coordinates, normal_z) + d) / magnitude_z\n",
    "\n",
    "    pcd.point.positions = np.column_stack((x, y, z))\n",
    "\n",
    "    o3d.t.io.write_point_cloud(output_filename, pcd, write_ascii=False)"
   ],
   "metadata": {
    "collapsed": false,
    "pycharm": {
     "name": "#%%\n"
    }
   }
  },
  {
   "cell_type": "code",
   "source": [
    "# Perform coordinate transformation\n",
    "transformed_filename = os.path.join(output_path, base_name + \" - transformed\" + extension)\n",
    "coordinate_transformation(clustered_filename, transformed_filename)"
   ],
   "metadata": {
    "collapsed": false,
    "pycharm": {
     "name": "#%%\n"
    }
   },
   "execution_count": null,
   "outputs": []
  },
  {
   "cell_type": "markdown",
   "source": [
    "## Step 2. Crop point cloud"
   ],
   "metadata": {
    "collapsed": false,
    "pycharm": {
     "name": "#%% md\n"
    }
   }
  },
  {
   "cell_type": "code",
   "execution_count": null,
   "outputs": [],
   "source": [
    "# Input point cloud file\n",
    "transformed_filename = os.path.join(output_path, base_name + \" - transformed\" + extension)"
   ],
   "metadata": {
    "collapsed": false,
    "pycharm": {
     "name": "#%%\n"
    }
   }
  },
  {
   "cell_type": "code",
   "execution_count": null,
   "outputs": [],
   "source": [
    "def crop(input_filename, output_filename):\n",
    "    # Load the input point cloud file\n",
    "    pcd = o3d.t.io.read_point_cloud(input_filename)\n",
    "\n",
    "    x_min, x_max = [-4.0, 8.0]\n",
    "    y_min, y_max = [1e-1, math.inf]\n",
    "    z_min, z_max = [-math.inf, 0.5]\n",
    "\n",
    "    # Create bounding box\n",
    "    min_bound = np.array([x_min, y_min, z_min])\n",
    "    max_bound = np.array([x_max, y_max, z_max])\n",
    "    bounding_box = o3d.t.geometry.AxisAlignedBoundingBox(min_bound, max_bound)\n",
    "\n",
    "    # Crop the point cloud\n",
    "    pcd = pcd.crop(bounding_box)\n",
    "\n",
    "    o3d.t.io.write_point_cloud(output_filename, pcd, write_ascii=False)"
   ],
   "metadata": {
    "collapsed": false,
    "pycharm": {
     "name": "#%%\n"
    }
   }
  },
  {
   "cell_type": "code",
   "execution_count": null,
   "outputs": [],
   "source": [
    "# Perform crop point cloud\n",
    "cropped_filename = os.path.join(output_path, base_name + \" - cropped\" + extension)\n",
    "crop(transformed_filename, cropped_filename)"
   ],
   "metadata": {
    "collapsed": false,
    "pycharm": {
     "name": "#%%\n"
    }
   }
  },
  {
   "cell_type": "markdown",
   "source": [
    "## Step 3. Split point cloud"
   ],
   "metadata": {
    "collapsed": false,
    "pycharm": {
     "name": "#%% md\n"
    }
   }
  },
  {
   "cell_type": "code",
   "execution_count": null,
   "outputs": [],
   "source": [
    "# Input point cloud file\n",
    "cropped_filename = os.path.join(output_path, base_name + \" - cropped\" + extension)"
   ],
   "metadata": {
    "collapsed": false,
    "pycharm": {
     "name": "#%%\n"
    }
   }
  },
  {
   "cell_type": "code",
   "execution_count": null,
   "outputs": [],
   "source": [
    "def hidden_points_removal(pcd):\n",
    "    # Radius of the spherical projection\n",
    "    diameter = np.linalg.norm(pcd.get_max_bound().numpy() - pcd.get_min_bound().numpy())\n",
    "    radius = diameter * 100\n",
    "\n",
    "    # Camera location\n",
    "    camera = pcd.get_center().numpy()\n",
    "    camera_height = 5\n",
    "    camera[2] = camera_height  # set z\n",
    "\n",
    "    # Get all points that are visible from given view point\n",
    "    _, mask = pcd.hidden_point_removal(camera, radius)\n",
    "    pcd_new = pcd.select_by_index(mask)\n",
    "\n",
    "    return pcd_new"
   ],
   "metadata": {
    "collapsed": false,
    "pycharm": {
     "name": "#%%\n"
    }
   }
  },
  {
   "cell_type": "code",
   "execution_count": null,
   "outputs": [],
   "source": [
    "from matplotlib import ticker\n",
    "\n",
    "\n",
    "# Split the point cloud, then draw a depth image and a cross-section image on each slice\n",
    "def split(input_filename, every_k_meter=10):\n",
    "    # Load the input point cloud file\n",
    "    pcd = o3d.t.io.read_point_cloud(input_filename)\n",
    "\n",
    "    x_max_global, y_max_global, z_max_global = pcd.get_max_bound().numpy()\n",
    "    x_min_global, y_min_global, z_min_global = pcd.get_min_bound().numpy()\n",
    "\n",
    "    print(f\"Total length: {y_max_global:.2f} meters\\n\")\n",
    "\n",
    "    y_split_pos = [0]\n",
    "    while y_split_pos[-1] < y_max_global:\n",
    "        y_split_pos.append(y_split_pos[-1] + every_k_meter)\n",
    "\n",
    "    y_boundary = []\n",
    "    for i in range(len(y_split_pos) - 1):\n",
    "        boundary = [y_split_pos[i], y_split_pos[i + 1]]\n",
    "        y_boundary.append(boundary)\n",
    "    print(f\"Split the point cloud into {len(y_boundary)} slices: {y_boundary}\\n\")\n",
    "\n",
    "    slices_path = os.path.join(output_path, base_name + \" - slices\")\n",
    "    os.makedirs(slices_path, exist_ok=True)\n",
    "\n",
    "    pcd_path = os.path.join(slices_path, \"point cloud\")\n",
    "    os.makedirs(pcd_path, exist_ok=True)\n",
    "\n",
    "    depth_path = os.path.join(slices_path, \"depth images\")\n",
    "    os.makedirs(depth_path, exist_ok=True)\n",
    "\n",
    "    cross_section_path = os.path.join(slices_path, \"cross-section images\")\n",
    "    os.makedirs(cross_section_path, exist_ok=True)\n",
    "\n",
    "    for y_min, y_max in y_boundary:\n",
    "        if [y_min, y_max] != y_boundary[0]:\n",
    "            break\n",
    "\n",
    "        min_bound = np.array([x_min_global, y_min, z_min_global])\n",
    "        max_bound = np.array([x_max_global, y_max, z_max_global])\n",
    "        bounding_box = o3d.t.geometry.AxisAlignedBoundingBox(min_bound, max_bound)\n",
    "\n",
    "        pcd_slice = pcd.crop(bounding_box)\n",
    "\n",
    "        slice_number = y_max // 10\n",
    "        slice_base_name = base_name + \" - slice {}\".format(slice_number)\n",
    "\n",
    "        # Extract point coordinates\n",
    "        coordinates = pcd_slice.point.positions.numpy()\n",
    "        x, y, z = coordinates[:, 0], coordinates[:, 1], coordinates[:, 2]\n",
    "        range_x, range_y, range_z = np.ptp(x), np.ptp(y), np.ptp(z)\n",
    "\n",
    "        # Create a figure and define the grid layout\n",
    "        fig = plt.figure(figsize=(16, 9))  # Set the overall figure size\n",
    "        gs = fig.add_gridspec(3, 4)  # Define a 3x4 grid for subplots\n",
    "\n",
    "        fig.suptitle(\"Slice Profile — \" + slice_base_name)\n",
    "\n",
    "        # 1. Point cloud\n",
    "        ax_point = fig.add_subplot(gs[:2, :2], projection=\"3d\")  # 3D subplot on the top left\n",
    "        ax_point.set(xlabel=\"x axis\", ylabel=\"y axis\", zlabel=\"z axis\", zticks=[])\n",
    "        ax_point.set_box_aspect([range_x, range_y, range_z])\n",
    "        ax_point.scatter3D(x, y, z, s=0.01, marker='.')\n",
    "\n",
    "        ax_point.view_init(elev=45, azim=-115)\n",
    "\n",
    "        # 2. Cross-section image\n",
    "        ax_cross = fig.add_subplot(gs[2, :2])  # 2D subplot on the bottom left\n",
    "        ax_cross.set(xlabel=\"x\", ylabel=\"z\", xlim=[-5.0, 9.0], ylim=[-1.0, 1.5], title=\"Cross-section Image\")\n",
    "        ax_cross.set_box_aspect(range_z / range_x)\n",
    "        ax_cross.scatter(x, z, s=0.01, marker='.')\n",
    "\n",
    "        ax_cross.xaxis.set_major_formatter('{:.1f}'.format)\n",
    "        ax_cross.xaxis.set_minor_locator(ticker.AutoMinorLocator())\n",
    "        z_min = pcd_slice.get_min_bound().numpy()[2]\n",
    "        ax_cross.set_yticks([1.0, 0.0, z_min], [\"1.00\", \"0.00\", f\"z_min: {z_min:.2f}\"])\n",
    "\n",
    "        # 3. Depth images\n",
    "        ax_depth = fig.add_subplot(gs[:, 2:])  # 2D subplot on the right\n",
    "        ax_depth.set(xlabel=\"x\", ylabel=\"y\", title=\"Depth Image\")\n",
    "        ax_depth.set_box_aspect(range_y / range_x)\n",
    "        ax_depth.scatter(x, y, s=0.1, marker='.')\n",
    "\n",
    "        ax_depth.xaxis.set_minor_locator(ticker.AutoMinorLocator())\n",
    "        ax_depth.yaxis.set_minor_locator(ticker.AutoMinorLocator())\n",
    "\n",
    "        plt.tight_layout()\n",
    "        plt.show()\n",
    "\n",
    "        # image_filename = os.path.join(slices_path, slice_base_name + \".png\")\n",
    "        # fig.savefig(image_filename, format=\"png\", dpi=300)\n",
    "\n",
    "        # Save the split point cloud\n",
    "        # pcd_filename = os.path.join(pcd_path, slice_base_name + extension)\n",
    "        # o3d.t.io.write_point_cloud(pcd_filename, pcd_slice, write_ascii=False)"
   ],
   "metadata": {
    "collapsed": false,
    "pycharm": {
     "name": "#%%\n"
    }
   }
  },
  {
   "cell_type": "code",
   "execution_count": null,
   "outputs": [],
   "source": [
    "# Perform split point cloud\n",
    "split(cropped_filename)"
   ],
   "metadata": {
    "collapsed": false,
    "pycharm": {
     "name": "#%%\n"
    }
   }
  }
 ],
 "metadata": {
  "kernelspec": {
   "display_name": "Python 3 (ipykernel)",
   "language": "python",
   "name": "python3"
  },
  "language_info": {
   "codemirror_mode": {
    "name": "ipython",
    "version": 3
   },
   "file_extension": ".py",
   "mimetype": "text/x-python",
   "name": "python",
   "nbconvert_exporter": "python",
   "pygments_lexer": "ipython3",
   "version": "3.8.16"
  }
 },
 "nbformat": 4,
 "nbformat_minor": 1
}