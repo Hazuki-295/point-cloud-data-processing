{
 "cells": [
  {
   "cell_type": "markdown",
   "metadata": {
    "collapsed": true,
    "pycharm": {
     "name": "#%% md\n"
    }
   },
   "source": [
    "# Environment Setup"
   ]
  },
  {
   "cell_type": "code",
   "execution_count": null,
   "metadata": {
    "pycharm": {
     "name": "#%%\n"
    }
   },
   "outputs": [],
   "source": [
    "import os\n",
    "import sys\n",
    "\n",
    "import matplotlib.pyplot as plt\n",
    "import numpy as np\n",
    "import open3d as o3d\n",
    "\n",
    "# Python version\n",
    "assert sys.version_info >= (3, 8)\n",
    "# Open3D version\n",
    "assert o3d.__version__ >= \"0.17.0\""
   ]
  },
  {
   "cell_type": "code",
   "execution_count": null,
   "metadata": {
    "pycharm": {
     "name": "#%%\n"
    }
   },
   "outputs": [],
   "source": [
    "# Point cloud file I/O\n",
    "filename = \"data/input/iScan-Pcd-1-1.ply\"\n",
    "base_name, extension = os.path.splitext(os.path.basename(filename))\n",
    "\n",
    "output_filepath = \"data/output\"\n",
    "if not os.path.exists(output_filepath):\n",
    "    os.makedirs(output_filepath)"
   ]
  },
  {
   "cell_type": "markdown",
   "metadata": {
    "pycharm": {
     "name": "#%% md\n"
    }
   },
   "source": [
    "# 1. Point Cloud Filtering\n",
    "\n",
    "## Step 1. Down-sampling"
   ]
  },
  {
   "cell_type": "code",
   "execution_count": null,
   "metadata": {
    "pycharm": {
     "name": "#%%\n"
    }
   },
   "outputs": [],
   "source": [
    "def down_sample(input_filename, output_filename):\n",
    "    # Load the input point cloud file\n",
    "    pcd = o3d.t.io.read_point_cloud(input_filename)\n",
    "\n",
    "    # Function uniformly down-samples the point cloud, evenly select 1 point for every k points\n",
    "    down_sampled_pcd = pcd.uniform_down_sample(every_k_points=10)\n",
    "\n",
    "    # Save the down-sampled point cloud to an output file\n",
    "    o3d.t.io.write_point_cloud(output_filename, down_sampled_pcd, write_ascii=False)"
   ]
  },
  {
   "cell_type": "code",
   "execution_count": null,
   "metadata": {
    "pycharm": {
     "name": "#%%\n"
    }
   },
   "outputs": [],
   "source": [
    "# Perform down sampling\n",
    "down_sampled_filename = os.path.join(output_filepath, base_name + \" - downsampled\" + extension)\n",
    "down_sample(filename, down_sampled_filename)"
   ]
  },
  {
   "cell_type": "markdown",
   "metadata": {
    "pycharm": {
     "name": "#%% md\n"
    }
   },
   "source": [
    "## Step 2. Crop the point cloud\n",
    "This step is done in `CloudCompare` software manually."
   ]
  },
  {
   "cell_type": "markdown",
   "metadata": {},
   "source": [
    "## Step 3. Outlier removal"
   ]
  },
  {
   "cell_type": "code",
   "execution_count": null,
   "metadata": {
    "pycharm": {
     "name": "#%%\n"
    }
   },
   "outputs": [],
   "source": [
    "# Input point cloud file\n",
    "cropped_filename = os.path.join(output_filepath, base_name + \" - cropped\" + extension)"
   ]
  },
  {
   "cell_type": "code",
   "execution_count": null,
   "metadata": {
    "pycharm": {
     "name": "#%%\n"
    }
   },
   "outputs": [],
   "source": [
    "def outlier_removal(input_filename, output_filename, visualize=False):\n",
    "    # Load the input point cloud file\n",
    "    pcd = o3d.t.io.read_point_cloud(input_filename)\n",
    "\n",
    "    # Statistical outlier removal\n",
    "    filtered_pcd, mask = pcd.remove_statistical_outliers(nb_neighbors=20, std_ratio=16.0)\n",
    "\n",
    "    # Color outliers in red\n",
    "    outlier = pcd.select_by_mask(mask, invert=True)\n",
    "    outlier.paint_uniform_color([1.0, 0.0, 0.0])\n",
    "    print(f\"Remove {outlier.point.positions.shape[0]} outliers.\")\n",
    "\n",
    "    # Visualize the outlier\n",
    "    if visualize:\n",
    "        inlier = pcd.select_by_mask(mask)\n",
    "        inlier.paint_uniform_color([0.8, 0.8, 0.8])  # color in grey\n",
    "        o3d.visualization.draw_geometries([inlier.to_legacy(), outlier.to_legacy()],\n",
    "                                          window_name=\"Visualization — {}\".format(input_filename),\n",
    "                                          width=1000, height=800, left=400, top=150)\n",
    "\n",
    "    # Save the outlier for comparison\n",
    "    outlier_filename = os.path.join(output_filepath, base_name + \" - outlier\" + extension)\n",
    "    o3d.t.io.write_point_cloud(outlier_filename, outlier, write_ascii=False)\n",
    "\n",
    "    # Save the filtered point cloud to an output file\n",
    "    o3d.t.io.write_point_cloud(output_filename, filtered_pcd, write_ascii=False)"
   ]
  },
  {
   "cell_type": "code",
   "execution_count": null,
   "metadata": {
    "pycharm": {
     "name": "#%%\n"
    }
   },
   "outputs": [],
   "source": [
    "# Perform outlier removal\n",
    "filtered_filename = os.path.join(output_filepath, base_name + \" - filtered\" + extension)\n",
    "outlier_removal(cropped_filename, filtered_filename, visualize=False)"
   ]
  },
  {
   "cell_type": "markdown",
   "metadata": {
    "pycharm": {
     "name": "#%% md\n"
    }
   },
   "source": [
    "# 2. Point Cloud Segmentation\n",
    "\n",
    "## Step 1. Mask by intensity"
   ]
  },
  {
   "cell_type": "code",
   "execution_count": null,
   "metadata": {
    "pycharm": {
     "name": "#%%\n"
    }
   },
   "outputs": [],
   "source": [
    "# Input point cloud file\n",
    "filtered_filename = os.path.join(output_filepath, base_name + \" - filtered\" + extension)"
   ]
  },
  {
   "cell_type": "code",
   "execution_count": null,
   "metadata": {
    "pycharm": {
     "name": "#%%\n"
    }
   },
   "outputs": [],
   "source": [
    "def mask_intensity(input_filename, output_filename):\n",
    "    # Load the input point cloud file\n",
    "    pcd = o3d.t.io.read_point_cloud(input_filename)\n",
    "    print(pcd.point, '\\n')\n",
    "\n",
    "    # Add mask attribute to acquire low intensity points\n",
    "    intensity_threshold = 50\n",
    "    mask = np.where(pcd.point.scalar_intensity.numpy() <= intensity_threshold, 1, 0).astype(np.uint8)\n",
    "    pcd.point.mask = np.reshape(mask, (len(mask), 1))\n",
    "\n",
    "    print(pcd.point)\n",
    "\n",
    "    # Save the masked point cloud to an output file\n",
    "    o3d.t.io.write_point_cloud(output_filename, pcd, write_ascii=False)"
   ]
  },
  {
   "cell_type": "code",
   "execution_count": null,
   "metadata": {
    "pycharm": {
     "name": "#%%\n"
    }
   },
   "outputs": [],
   "source": [
    "# Perform mask by intensity\n",
    "masked_filename = os.path.join(output_filepath, base_name + \" - masked\" + extension)\n",
    "mask_intensity(filtered_filename, masked_filename)"
   ]
  },
  {
   "cell_type": "markdown",
   "metadata": {
    "pycharm": {
     "name": "#%% md\n"
    }
   },
   "source": [
    "## Step 2. DBSCAN clustering"
   ]
  },
  {
   "cell_type": "code",
   "execution_count": null,
   "metadata": {
    "pycharm": {
     "name": "#%%\n"
    }
   },
   "outputs": [],
   "source": [
    "# Input point cloud file\n",
    "masked_filename = os.path.join(output_filepath, base_name + \" - masked\" + extension)"
   ]
  },
  {
   "cell_type": "code",
   "execution_count": null,
   "metadata": {
    "pycharm": {
     "name": "#%%\n"
    }
   },
   "outputs": [],
   "source": [
    "from collections import Counter\n",
    "\n",
    "\n",
    "def dbscan_clustering(input_filename, output_filename):\n",
    "    # Load the input point cloud file\n",
    "    pcd = o3d.t.io.read_point_cloud(input_filename)\n",
    "\n",
    "    # Convert form uint8 to bool\n",
    "    mask = pcd.point.mask.numpy()\n",
    "    mask = [bool(x) for x in mask]\n",
    "\n",
    "    # Convert mask to index\n",
    "    index_of_mask = [i for i, boolean_val in enumerate(mask) if boolean_val]\n",
    "\n",
    "    # Extract low intensity points, then perform DBSCAN on them\n",
    "    low_intensity_pcd = pcd.select_by_mask(mask)\n",
    "    labels = low_intensity_pcd.cluster_dbscan(eps=0.10, min_points=5)\n",
    "    labels = labels.numpy()\n",
    "\n",
    "    n_clusters = labels.max() + 1\n",
    "    print(f\"DBSCAN clustering return {n_clusters} clusters.\\n\")\n",
    "\n",
    "    # Clusters will be labeled in a way that cluster with the most points is labeled 1\n",
    "    if n_clusters >= 2:\n",
    "        counter = Counter(labels)\n",
    "        print(counter, '\\n')\n",
    "\n",
    "        # Remove noise that be labeled -1\n",
    "        del counter[-1]\n",
    "\n",
    "        # Sort by count\n",
    "        sorted_items = sorted(counter.items(), key=lambda x: x[1], reverse=True)\n",
    "        rank = [item[0] for item in sorted_items]\n",
    "        print(rank, '\\n')\n",
    "\n",
    "        # Add cluster attribute to the input point cloud\n",
    "        cluster = np.zeros(len(mask)).astype(np.int32)\n",
    "        for index, val in enumerate(labels):\n",
    "            if val != -1:\n",
    "                cluster[index_of_mask[index]] = rank.index(val) + 1\n",
    "        pcd.point.cluster = np.reshape(cluster, (len(cluster), 1))\n",
    "\n",
    "        print(pcd.point)\n",
    "\n",
    "        # Save the clustered point cloud to an output file\n",
    "        o3d.t.io.write_point_cloud(output_filename, pcd, write_ascii=False)\n",
    "\n",
    "    else:\n",
    "        print(\"Warning: DBSCAN clustering return less than 2 clusters.\")"
   ]
  },
  {
   "cell_type": "code",
   "execution_count": null,
   "metadata": {
    "pycharm": {
     "name": "#%%\n"
    }
   },
   "outputs": [],
   "source": [
    "clustered_filename = os.path.join(output_filepath, base_name + \" - clustered\" + extension)\n",
    "dbscan_clustering(masked_filename, clustered_filename)"
   ]
  },
  {
   "cell_type": "markdown",
   "metadata": {
    "pycharm": {
     "name": "#%% md\n"
    }
   },
   "source": [
    "## Step 3. Curve fitting"
   ]
  },
  {
   "cell_type": "code",
   "execution_count": null,
   "metadata": {
    "pycharm": {
     "name": "#%%\n"
    }
   },
   "outputs": [],
   "source": [
    "# Input point cloud file\n",
    "clustered_filename = os.path.join(output_filepath, base_name + \" - clustered\" + extension)"
   ]
  },
  {
   "cell_type": "code",
   "execution_count": null,
   "outputs": [],
   "source": [
    "from scipy import interpolate\n",
    "from scipy.spatial import cKDTree\n",
    "\n",
    "\n",
    "def curve_fitting(input_filename, debug=False):\n",
    "    # Load the input point cloud file\n",
    "    pcd = o3d.t.io.read_point_cloud(input_filename)\n",
    "\n",
    "    # Step 1. fit two curves on both left and right\n",
    "\n",
    "    # Use cluster attribute to extrack rail points\n",
    "    cluster = pcd.point.cluster.numpy()\n",
    "    left_rail_mask = (cluster == 1).flatten()\n",
    "    right_rail_mask = (cluster == 2).flatten()\n",
    "\n",
    "    left_rail = pcd.select_by_mask(left_rail_mask)\n",
    "    point_left = left_rail.point.positions.numpy()\n",
    "    print(\"Left rail points:\", point_left.shape[0])\n",
    "\n",
    "    right_rail = pcd.select_by_mask(right_rail_mask)\n",
    "    point_right = right_rail.point.positions.numpy()\n",
    "    print(\"Right rail points:\", point_right.shape[0], '\\n')\n",
    "\n",
    "    # Debug code begin\n",
    "    num_of_sampled = 100\n",
    "    if debug:\n",
    "        scalar_factor = point_left.shape[0] / point_right.shape[0]\n",
    "        print(\"scalar_factor:\", scalar_factor, '\\n')\n",
    "\n",
    "        point_left = point_left[:int(num_of_sampled * scalar_factor)]\n",
    "        point_right = point_right[:num_of_sampled]\n",
    "\n",
    "        print(\"Left rail points - sampled:\", len(point_left))\n",
    "        print(\"Right rail points - sampled:\", len(point_right), '\\n')\n",
    "    # Debug code end\n",
    "\n",
    "    point_left = np.transpose(point_left)  # (n, 3) -> (3, n)\n",
    "    point_right = np.transpose(point_right)\n",
    "\n",
    "    # Find the B-spline representation of an 3-D curve\n",
    "    tck_left, u_left = interpolate.splprep(point_left)\n",
    "    tck_right, u_right = interpolate.splprep(point_right)\n",
    "\n",
    "    knots_left = interpolate.splev(u_left, tck_left)\n",
    "    knots_right = interpolate.splev(u_right, tck_right)\n",
    "\n",
    "    # Step 2. Calculate the centre line, then fit a curve on it\n",
    "\n",
    "    # Convert the curve points to a NumPy array\n",
    "    curve_point_left = np.column_stack((knots_left[0], knots_left[1], knots_left[2]))\n",
    "    curve_point_right = np.column_stack((knots_right[0], knots_right[1], knots_right[2]))\n",
    "\n",
    "    # Build a kd-tree from the left curve points\n",
    "    kdtree = cKDTree(curve_point_left)\n",
    "\n",
    "    # Query the kd-tree to find the nearest neighbor and its distance\n",
    "    distance, nearest_index = kdtree.query(curve_point_right)\n",
    "\n",
    "    # Get the nearest point from the left curve points\n",
    "    nearest_point = curve_point_left[nearest_index]\n",
    "\n",
    "    # Points on the centre line\n",
    "    point_centre = (nearest_point + curve_point_right) / 2\n",
    "    point_centre = np.transpose(point_centre)  # (n, 3) -> (3, n)\n",
    "\n",
    "    # Fit a curve on centre line\n",
    "    tck_centre, u_centre = interpolate.splprep(point_centre)\n",
    "    knots_centre = interpolate.splev(u_centre, tck_centre)\n",
    "\n",
    "    # Debug code begin\n",
    "    if debug:\n",
    "        num_of_even = 5\n",
    "        u_even = np.linspace(0, 1, num_of_even)\n",
    "\n",
    "        even_left = interpolate.splev(u_even, tck_left)\n",
    "        even_right = interpolate.splev(u_even, tck_right)\n",
    "        even_centre = interpolate.splev(u_even, tck_centre)\n",
    "\n",
    "        fig = plt.figure()\n",
    "        ax = fig.add_subplot(projection=\"3d\")\n",
    "        ax.set(xlabel=\"x\", ylabel=\"y\", zlabel=\"z\", title=\"Curve fitting\")\n",
    "\n",
    "        # True points\n",
    "        ax.plot(point_left[0], point_left[1], point_left[2], \"b\")\n",
    "        ax.plot(point_right[0], point_right[1], point_right[2], \"r\")\n",
    "        ax.plot(point_centre[0], point_centre[1], point_centre[2], \"g\")\n",
    "\n",
    "        # Fitted points\n",
    "        ax.plot(knots_left[0], knots_left[1], knots_left[2], \"b\")\n",
    "        ax.plot(knots_right[0], knots_right[1], knots_right[2], \"r\")\n",
    "        ax.plot(knots_centre[0], knots_centre[1], knots_centre[2], \"g\")\n",
    "\n",
    "        ax.plot(even_left[0], even_left[1], even_left[2], \"c*\")\n",
    "        ax.plot(even_right[0], even_right[1], even_right[2], \"m*\")\n",
    "        ax.plot(even_centre[0], even_centre[1], even_centre[2], \"y*\")\n",
    "\n",
    "        fig.show()\n",
    "    # Debug code end\n",
    "\n",
    "    # Step 3. Store three fitted curves to a separate file\n",
    "\n",
    "    pcd_left = o3d.t.geometry.PointCloud()\n",
    "    pcd_left.point.positions = o3d.core.Tensor(curve_point_left)\n",
    "    pcd_left.paint_uniform_color([0.0, 0.0, 1.0])  # color in blue\n",
    "    pcd_left.point.curve = np.full((curve_point_left.shape[0], 1), 1).astype(np.int32)\n",
    "\n",
    "    pcd_right = o3d.t.geometry.PointCloud()\n",
    "    pcd_right.point.positions = o3d.core.Tensor(curve_point_right)\n",
    "    pcd_right.paint_uniform_color([0.0, 1.0, 0.0])  # color in green\n",
    "    pcd_right.point.curve = np.full((curve_point_right.shape[0], 1), 2).astype(np.int32)\n",
    "\n",
    "    curve_point_centre = np.column_stack((knots_centre[0], knots_centre[1], knots_centre[2]))\n",
    "\n",
    "    pcd_centre = o3d.t.geometry.PointCloud()\n",
    "    pcd_centre.point.positions = o3d.core.Tensor(curve_point_centre)\n",
    "    pcd_centre.paint_uniform_color([1.0, 0.0, 0.0])  # color in red\n",
    "    pcd_centre.point.curve = np.full((curve_point_centre.shape[0], 1), 3).astype(np.int32)\n",
    "\n",
    "    # Save the fitted curves for comparison\n",
    "    curve_filename = os.path.join(output_filepath, base_name + \" - curve\" + extension)\n",
    "    o3d.t.io.write_point_cloud(curve_filename, pcd_left + pcd_right + pcd_centre, write_ascii=False)\n",
    "\n",
    "    # Return the B-spline representation of the centre line\n",
    "    return [tck_centre, u_centre], curve_point_left[0] - curve_point_centre[0]"
   ],
   "metadata": {
    "collapsed": false,
    "pycharm": {
     "name": "#%%\n"
    }
   }
  },
  {
   "cell_type": "code",
   "execution_count": null,
   "outputs": [],
   "source": [
    "[tck_curve, u_curve], vector_left = curve_fitting(clustered_filename, debug=False)  # tck, u"
   ],
   "metadata": {
    "collapsed": false,
    "pycharm": {
     "name": "#%%\n"
    }
   }
  },
  {
   "cell_type": "markdown",
   "source": [
    "## 3. Cross-Section Extraction"
   ],
   "metadata": {
    "collapsed": false,
    "pycharm": {
     "name": "#%% md\n"
    }
   }
  },
  {
   "cell_type": "code",
   "execution_count": null,
   "outputs": [],
   "source": [
    "def segment_ground(input_filename):\n",
    "    pcd = o3d.t.io.read_point_cloud(input_filename)\n",
    "    plane_model, _ = pcd.segment_plane(distance_threshold=0.05, ransac_n=3, num_iterations=100)\n",
    "    return plane_model"
   ],
   "metadata": {
    "collapsed": false,
    "pycharm": {
     "name": "#%%\n"
    }
   }
  },
  {
   "cell_type": "code",
   "execution_count": null,
   "outputs": [],
   "source": [
    "plane = segment_ground(clustered_filename).numpy()  # ax + by + cz + d = 0"
   ],
   "metadata": {
    "collapsed": false,
    "pycharm": {
     "name": "#%%\n"
    }
   }
  },
  {
   "cell_type": "markdown",
   "source": [
    "## Step 1. Coordinate Transformation"
   ],
   "metadata": {
    "collapsed": false,
    "pycharm": {
     "name": "#%% md\n"
    }
   }
  },
  {
   "cell_type": "code",
   "execution_count": null,
   "outputs": [],
   "source": [
    "# Print centre curve parameters\n",
    "print(\"Centre curve parameters:\\n\")\n",
    "print(f\"tck_curve[0] - t: {tck_curve[0]}\\n\")\n",
    "print(f\"tck_curve[1] - c: {np.array(tck_curve[1])}\\n\")\n",
    "print(f\"tck_curve[2] - k: {tck_curve[2]}\\n\")\n",
    "print(f\"u_curve: {len(u_curve)} {u_curve}\\n\")\n",
    "\n",
    "# Print plane parameters\n",
    "print(\"plane parameters:\", plane)"
   ],
   "metadata": {
    "collapsed": false,
    "pycharm": {
     "name": "#%%\n"
    }
   }
  },
  {
   "cell_type": "code",
   "execution_count": null,
   "outputs": [],
   "source": [
    "# Evaluate the curve\n",
    "u_curve_even = np.linspace(0, 1, len(u_curve))\n",
    "centre_curve = interpolate.splev(u_curve_even, tck_curve)\n",
    "centre_curve = np.column_stack((centre_curve[0], centre_curve[1], centre_curve[2]))\n",
    "\n",
    "# Evaluate the plane, ax + by + cz + d = 0\n",
    "a, b, c, d = plane"
   ],
   "metadata": {
    "collapsed": false,
    "pycharm": {
     "name": "#%%\n"
    }
   }
  },
  {
   "cell_type": "code",
   "execution_count": null,
   "outputs": [],
   "source": [
    "# Calculate coordinates in the new coordinate system\n",
    "# def coordinate_transformation(input_filename):\n",
    "\n",
    "# Load the input point cloud file\n",
    "pcd = o3d.t.io.read_point_cloud(clustered_filename)\n",
    "\n",
    "# Coordinates in original coordinate system\n",
    "coordinates = pcd.point.positions.numpy()\n",
    "\n",
    "# Prepare for coordinate calculation\n",
    "normal_z = np.array([a, b, c])\n",
    "if np.dot(normal_z, centre_curve[0]) + d < 0:  # centre curve points should have z > 0\n",
    "    normal_z = -normal_z\n",
    "magnitude_z = np.linalg.norm(normal_z)\n",
    "\n",
    "diff = np.diff(centre_curve, axis=0)  # Compute the differences between consecutive points\n",
    "distances = np.linalg.norm(diff, axis=1)\n",
    "cumulate_y = np.cumsum(np.insert(distances, 0, 0))\n",
    "\n",
    "print(f\"centre_curve: {centre_curve.shape}\\n{centre_curve[:3]}\\n\")\n",
    "print(f\"diff: {diff.shape}\\n{diff[:3]}\\n\")\n",
    "print(f\"distances: {distances.shape}\\n{distances[:3]}\\n\")\n",
    "print(f\"cumulate_y: {cumulate_y.shape}\\n{cumulate_y[:3]}\\n\")\n",
    "\n",
    "kdtree = cKDTree(centre_curve)\n",
    "distance, nearest_index = kdtree.query(coordinates)\n",
    "\n",
    "PQ = coordinates - centre_curve[nearest_index]\n",
    "magnitude_PQ = distance\n",
    "cross_product = np.cross(normal_z, PQ)\n",
    "sin_theta = np.linalg.norm(cross_product, axis=1) / (magnitude_z * magnitude_PQ)\n",
    "\n",
    "sign_x = np.where(np.dot(PQ, vector_left) < 0, -1, 1)\n",
    "\n",
    "# Coordinate calculation\n",
    "x = magnitude_PQ * sin_theta * sign_x\n",
    "y = cumulate_y[nearest_index]\n",
    "z = (np.dot(coordinates, normal_z) + d) / magnitude_z\n",
    "\n",
    "coordinates_new = np.column_stack((x, y, z))\n",
    "\n",
    "pcd_new = o3d.t.geometry.PointCloud(coordinates_new)\n",
    "output_filename = os.path.join(output_filepath, base_name + \" - test\" + extension)\n",
    "o3d.t.io.write_point_cloud(output_filename, pcd_new, write_ascii=False)"
   ],
   "metadata": {
    "collapsed": false,
    "pycharm": {
     "name": "#%%\n"
    }
   }
  }
 ],
 "metadata": {
  "kernelspec": {
   "display_name": "Python 3 (ipykernel)",
   "language": "python",
   "name": "python3"
  },
  "language_info": {
   "codemirror_mode": {
    "name": "ipython",
    "version": 3
   },
   "file_extension": ".py",
   "mimetype": "text/x-python",
   "name": "python",
   "nbconvert_exporter": "python",
   "pygments_lexer": "ipython3",
   "version": "3.8.16"
  }
 },
 "nbformat": 4,
 "nbformat_minor": 1
}