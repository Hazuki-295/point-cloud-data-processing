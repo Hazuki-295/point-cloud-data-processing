{
 "cells": [
  {
   "cell_type": "markdown",
   "metadata": {
    "collapsed": true,
    "pycharm": {
     "name": "#%% md\n"
    }
   },
   "source": [
    "# Environment Setup"
   ]
  },
  {
   "cell_type": "code",
   "execution_count": 1,
   "outputs": [
    {
     "name": "stdout",
     "output_type": "stream",
     "text": [
      "Jupyter environment detected. Enabling Open3D WebVisualizer.\n",
      "[Open3D INFO] WebRTC GUI backend enabled.\n",
      "[Open3D INFO] WebRTCWindowSystem: HTTP handshake server disabled.\n"
     ]
    }
   ],
   "source": [
    "import os\n",
    "import sys\n",
    "from collections import Counter\n",
    "\n",
    "import numpy as np\n",
    "import open3d as o3d\n",
    "\n",
    "from tutorials.open3d import visualization\n",
    "\n",
    "# Python version\n",
    "assert sys.version_info >= (3, 8)\n",
    "# Open3D version\n",
    "assert o3d.__version__ >= \"0.17.0\""
   ],
   "metadata": {
    "collapsed": false,
    "pycharm": {
     "name": "#%%\n"
    }
   }
  },
  {
   "cell_type": "code",
   "execution_count": 2,
   "outputs": [],
   "source": [
    "# Point cloud file I/O\n",
    "filename = \"data/input/iScan-Pcd-1-1.ply\"\n",
    "base_name, extension = os.path.splitext(os.path.basename(filename))\n",
    "\n",
    "output_filepath = \"data/output\"\n",
    "if not os.path.exists(output_filepath):\n",
    "    os.makedirs(output_filepath)"
   ],
   "metadata": {
    "collapsed": false,
    "pycharm": {
     "name": "#%%\n"
    }
   }
  },
  {
   "cell_type": "markdown",
   "source": [
    "# 1. Point Cloud Filtering\n",
    "\n",
    "## Step 1. Down-sampling"
   ],
   "metadata": {
    "collapsed": false,
    "pycharm": {
     "name": "#%% md\n"
    }
   }
  },
  {
   "cell_type": "code",
   "execution_count": null,
   "outputs": [],
   "source": [
    "def down_sample(input_filename, output_filename):\n",
    "    # Load the input point cloud file\n",
    "    pcd = o3d.t.io.read_point_cloud(input_filename)\n",
    "\n",
    "    # Function uniformly down-samples the point cloud, evenly select 1 point for every k points\n",
    "    down_sampled_pcd = pcd.uniform_down_sample(every_k_points=10)\n",
    "\n",
    "    # Save the down-sampled point cloud to an output file\n",
    "    o3d.t.io.write_point_cloud(output_filename, down_sampled_pcd, write_ascii=False)"
   ],
   "metadata": {
    "collapsed": false,
    "pycharm": {
     "name": "#%%\n"
    }
   }
  },
  {
   "cell_type": "code",
   "execution_count": null,
   "outputs": [],
   "source": [
    "# Perform down sampling\n",
    "down_sampled_filename = os.path.join(output_filepath, base_name + \" - downsampled\" + extension)\n",
    "down_sample(filename, down_sampled_filename)"
   ],
   "metadata": {
    "collapsed": false,
    "pycharm": {
     "name": "#%%\n"
    }
   }
  },
  {
   "cell_type": "code",
   "execution_count": null,
   "outputs": [],
   "source": [
    "# Visualize down sampled result\n",
    "visualization.visualization(down_sampled_filename)"
   ],
   "metadata": {
    "collapsed": false,
    "pycharm": {
     "name": "#%%\n"
    }
   }
  },
  {
   "cell_type": "markdown",
   "source": [
    "## Step 2. Crop the point cloud\n",
    "This step is done in `CloudCompare` software manually."
   ],
   "metadata": {
    "collapsed": false,
    "pycharm": {
     "name": "#%% md\n"
    }
   }
  },
  {
   "cell_type": "markdown",
   "source": [
    "## Step 3. Outlier removal"
   ],
   "metadata": {
    "collapsed": false
   }
  },
  {
   "cell_type": "code",
   "execution_count": null,
   "outputs": [],
   "source": [
    "# Input point cloud file\n",
    "cropped_filename = os.path.join(output_filepath, base_name + \" - cropped\" + extension)"
   ],
   "metadata": {
    "collapsed": false,
    "pycharm": {
     "name": "#%%\n"
    }
   }
  },
  {
   "cell_type": "code",
   "execution_count": null,
   "outputs": [],
   "source": [
    "def outlier_removal(input_filename, output_filename, visualize=False):\n",
    "    # Load the input point cloud file\n",
    "    pcd = o3d.t.io.read_point_cloud(input_filename)\n",
    "\n",
    "    # Statistical outlier removal\n",
    "    filtered_pcd, mask = pcd.remove_statistical_outliers(nb_neighbors=20, std_ratio=16.0)\n",
    "\n",
    "    # Visualize and save the outlier into a separate file for comparison\n",
    "    if visualize:\n",
    "        inlier = pcd.select_by_mask(mask)\n",
    "        outlier = pcd.select_by_mask(mask, invert=True)\n",
    "\n",
    "        inlier.paint_uniform_color([0.8, 0.8, 0.8])  # color in grey\n",
    "        outlier.paint_uniform_color([1.0, 0.0, 0.0])  # color in red\n",
    "\n",
    "        o3d.visualization.draw_geometries([inlier.to_legacy(), outlier.to_legacy()],\n",
    "                                          window_name=\"Visualization — {}\".format(input_filename),\n",
    "                                          width=1000, height=800, left=400, top=150)\n",
    "\n",
    "        # Save the outlier for comparison\n",
    "        outlier_filename = os.path.join(output_filepath, \"outlier.ply\")\n",
    "        o3d.t.io.write_point_cloud(outlier_filename, outlier, write_ascii=False)\n",
    "\n",
    "    # Save the filtered point cloud to an output file\n",
    "    o3d.t.io.write_point_cloud(output_filename, filtered_pcd, write_ascii=False)"
   ],
   "metadata": {
    "collapsed": false,
    "pycharm": {
     "name": "#%%\n"
    }
   }
  },
  {
   "cell_type": "code",
   "execution_count": null,
   "outputs": [],
   "source": [
    "# Perform outlier removal\n",
    "filtered_filename = os.path.join(output_filepath, base_name + \" - filtered\" + extension)\n",
    "outlier_removal(cropped_filename, filtered_filename, visualize=True)"
   ],
   "metadata": {
    "collapsed": false,
    "pycharm": {
     "name": "#%%\n"
    }
   }
  },
  {
   "cell_type": "markdown",
   "source": [
    "# 2. Point Cloud Segmentation\n",
    "\n",
    "## Step 1. Mask by intensity"
   ],
   "metadata": {
    "collapsed": false,
    "pycharm": {
     "name": "#%% md\n"
    }
   }
  },
  {
   "cell_type": "code",
   "execution_count": null,
   "outputs": [],
   "source": [
    "# Input point cloud file\n",
    "filtered_filename = os.path.join(output_filepath, base_name + \" - filtered\" + extension)"
   ],
   "metadata": {
    "collapsed": false,
    "pycharm": {
     "name": "#%%\n"
    }
   }
  },
  {
   "cell_type": "code",
   "execution_count": null,
   "outputs": [],
   "source": [
    "def mask_intensity(input_filename, output_filename):\n",
    "    # Load the input point cloud file\n",
    "    pcd = o3d.t.io.read_point_cloud(input_filename)\n",
    "    print(pcd.point, '\\n')\n",
    "\n",
    "    mask = {\"Remainder\": 0, \"Low Intensity\": 1, }\n",
    "\n",
    "    # Mask to acquire low intensity points\n",
    "    intensity = pcd.point.scalar_intensity.numpy()\n",
    "    ls = list(map(lambda i: mask[\"Low Intensity\"] if i <= 50 else mask[\"Remainder\"], intensity))\n",
    "    ls = np.reshape(ls, (len(ls), 1))\n",
    "\n",
    "    # Save mask as int32, since int64 and bool is not supported for ply\n",
    "    pcd.point.mask = np.array(ls, dtype=np.int32)\n",
    "    print(pcd.point)\n",
    "\n",
    "    # Save the masked point cloud to an output file\n",
    "    o3d.t.io.write_point_cloud(output_filename, pcd, write_ascii=False)"
   ],
   "metadata": {
    "collapsed": false,
    "pycharm": {
     "name": "#%%\n"
    }
   }
  },
  {
   "cell_type": "code",
   "execution_count": null,
   "outputs": [],
   "source": [
    "# Perform mask by intensity\n",
    "masked_filename = os.path.join(output_filepath, base_name + \" - masked\" + extension)\n",
    "mask_intensity(filtered_filename, masked_filename)"
   ],
   "metadata": {
    "collapsed": false,
    "pycharm": {
     "name": "#%%\n"
    }
   }
  },
  {
   "cell_type": "markdown",
   "source": [
    "## Step 2. DBSCAN clustering"
   ],
   "metadata": {
    "collapsed": false,
    "pycharm": {
     "name": "#%% md\n"
    }
   }
  },
  {
   "cell_type": "code",
   "execution_count": 3,
   "outputs": [],
   "source": [
    "# Input point cloud file\n",
    "masked_filename = os.path.join(output_filepath, base_name + \" - masked\" + extension)"
   ],
   "metadata": {
    "collapsed": false,
    "pycharm": {
     "name": "#%%\n"
    }
   }
  },
  {
   "cell_type": "code",
   "execution_count": 4,
   "outputs": [],
   "source": [
    "def dbscan_clustering(input_filename, output_filename):\n",
    "    # Load the input point cloud file\n",
    "    pcd = o3d.t.io.read_point_cloud(input_filename)\n",
    "\n",
    "    # Convert form int32 to bool\n",
    "    mask = pcd.point.mask.numpy()\n",
    "    mask = [bool(x) for x in mask]\n",
    "\n",
    "    # Convert mask to index\n",
    "    index = [i for i, boolean_val in enumerate(mask) if boolean_val]\n",
    "\n",
    "    # Extract low intensity points, then perform DBSCAN on them\n",
    "    low_intensity_pcd = pcd.select_by_mask(mask)\n",
    "    labels = low_intensity_pcd.cluster_dbscan(eps=0.05, min_points=5)\n",
    "    labels = labels.numpy()\n",
    "\n",
    "    n_clusters = labels.max() + 1\n",
    "    print(n_clusters)\n",
    "\n",
    "    # Two clusters that have the largest number of points\n",
    "    if n_clusters >= 2:\n",
    "        counter = Counter(labels)\n",
    "        most_common = counter.most_common(2)\n",
    "        numbers, _ = zip(*most_common)\n",
    "\n",
    "        index_first = [i for i, val in enumerate(labels) if val == numbers[0]]\n",
    "        index_second = [i for i, val in enumerate(labels) if val == numbers[1]]\n",
    "\n",
    "        # Add cluster attribute to the input point cloud\n",
    "        cluster = np.zeros(len(mask))\n",
    "        pcd.point.cluster = np.reshape(cluster, (len(cluster), 1))\n",
    "\n",
    "        # Update cluster attribute\n",
    "        for i in index_first:\n",
    "            pcd.point.cluster[index[i]] = 1\n",
    "        for i in index_second:\n",
    "            pcd.point.cluster[index[i]] = 2\n",
    "\n",
    "    else:\n",
    "        print(\"Warning: DBSCAN clustering return less than 2 clusters.\")\n",
    "\n",
    "    # Save the labeled point cloud to an output file\n",
    "    o3d.t.io.write_point_cloud(output_filename, pcd, write_ascii=False)"
   ],
   "metadata": {
    "collapsed": false,
    "pycharm": {
     "name": "#%%\n"
    }
   }
  },
  {
   "cell_type": "code",
   "execution_count": 5,
   "outputs": [
    {
     "name": "stdout",
     "output_type": "stream",
     "text": [
      "13\n"
     ]
    }
   ],
   "source": [
    "labeled_filename = os.path.join(output_filepath, base_name + \" - clustered\" + extension)\n",
    "dbscan_clustering(masked_filename, labeled_filename)"
   ],
   "metadata": {
    "collapsed": false,
    "pycharm": {
     "name": "#%%\n"
    }
   }
  }
 ],
 "metadata": {
  "kernelspec": {
   "display_name": "Python 3",
   "language": "python",
   "name": "python3"
  },
  "language_info": {
   "codemirror_mode": {
    "name": "ipython",
    "version": 2
   },
   "file_extension": ".py",
   "mimetype": "text/x-python",
   "name": "python",
   "nbconvert_exporter": "python",
   "pygments_lexer": "ipython2",
   "version": "2.7.6"
  }
 },
 "nbformat": 4,
 "nbformat_minor": 0
}