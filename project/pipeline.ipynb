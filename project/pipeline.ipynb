{
 "cells": [
  {
   "cell_type": "markdown",
   "metadata": {
    "collapsed": true,
    "pycharm": {
     "name": "#%% md\n"
    }
   },
   "source": [
    "# Environment Setup"
   ]
  },
  {
   "cell_type": "code",
   "execution_count": null,
   "metadata": {
    "pycharm": {
     "name": "#%%\n"
    }
   },
   "outputs": [],
   "source": [
    "import math\n",
    "import os\n",
    "import sys\n",
    "\n",
    "import matplotlib.pyplot as plt\n",
    "import numpy as np\n",
    "import open3d as o3d\n",
    "\n",
    "# Python version\n",
    "assert sys.version_info >= (3, 8)\n",
    "# Open3D version\n",
    "assert o3d.__version__ >= \"0.17.0\""
   ]
  },
  {
   "cell_type": "code",
   "execution_count": null,
   "metadata": {
    "pycharm": {
     "name": "#%%\n"
    }
   },
   "outputs": [],
   "source": [
    "# Point cloud file I/O\n",
    "filename = \"data/input/iScan-Pcd-1-1.ply\"\n",
    "base_name, extension = os.path.splitext(os.path.basename(filename))\n",
    "\n",
    "output_path = os.path.join(\"data/output\", base_name)\n",
    "os.makedirs(output_path, exist_ok=True)"
   ]
  },
  {
   "cell_type": "markdown",
   "metadata": {
    "pycharm": {
     "name": "#%% md\n"
    }
   },
   "source": [
    "# 1. Point Cloud Filtering\n",
    "\n",
    "## Step 1. Down-sampling"
   ]
  },
  {
   "cell_type": "code",
   "execution_count": null,
   "metadata": {
    "pycharm": {
     "name": "#%%\n"
    }
   },
   "outputs": [],
   "source": [
    "def down_sample(input_filename, output_filename, every_k_points=10):\n",
    "    # Load the input point cloud file\n",
    "    pcd = o3d.t.io.read_point_cloud(input_filename)\n",
    "\n",
    "    # Function uniformly down-samples the point cloud, evenly select 1 point for every k points\n",
    "    down_sampled_pcd = pcd.uniform_down_sample(every_k_points)\n",
    "\n",
    "    # Save the down-sampled point cloud to an output file\n",
    "    o3d.t.io.write_point_cloud(output_filename, down_sampled_pcd, write_ascii=False)"
   ]
  },
  {
   "cell_type": "code",
   "execution_count": null,
   "metadata": {
    "pycharm": {
     "name": "#%%\n"
    }
   },
   "outputs": [],
   "source": [
    "# Perform down sampling\n",
    "down_sampled_filename = os.path.join(output_path, base_name + \" - downsampled\" + extension)\n",
    "down_sample(filename, down_sampled_filename)"
   ]
  },
  {
   "cell_type": "markdown",
   "metadata": {},
   "source": [
    "## Step 2. Outlier removal"
   ]
  },
  {
   "cell_type": "code",
   "execution_count": null,
   "outputs": [],
   "source": [
    "# Input point cloud file\n",
    "down_sampled_filename = os.path.join(output_path, base_name + \" - downsampled\" + extension)"
   ],
   "metadata": {
    "collapsed": false,
    "pycharm": {
     "name": "#%%\n"
    }
   }
  },
  {
   "cell_type": "code",
   "execution_count": null,
   "metadata": {
    "pycharm": {
     "name": "#%%\n"
    }
   },
   "outputs": [],
   "source": [
    "def outlier_removal(input_filename, output_filename, nb_neighbors=20, std_ratio=2.0):\n",
    "    # Load the input point cloud file\n",
    "    pcd = o3d.t.io.read_point_cloud(input_filename)\n",
    "\n",
    "    # Statistical outlier removal\n",
    "    filtered_pcd, mask = pcd.remove_statistical_outliers(nb_neighbors, std_ratio)\n",
    "\n",
    "    # Color outliers in red\n",
    "    outlier = pcd.select_by_mask(mask, invert=True)\n",
    "    outlier.paint_uniform_color([1.0, 0.0, 0.0])\n",
    "    print(f\"Remove {outlier.point.positions.shape[0]} outliers.\")\n",
    "\n",
    "    # Save the outlier for comparison\n",
    "    outlier_filename = os.path.join(output_path, base_name + \" - outlier\" + extension)\n",
    "    o3d.t.io.write_point_cloud(outlier_filename, outlier, write_ascii=False)\n",
    "\n",
    "    # Save the filtered point cloud to an output file\n",
    "    o3d.t.io.write_point_cloud(output_filename, filtered_pcd, write_ascii=False)"
   ]
  },
  {
   "cell_type": "code",
   "execution_count": null,
   "outputs": [],
   "source": [
    "# Perform outlier removal\n",
    "filtered_filename = os.path.join(output_path, base_name + \" - filtered\" + extension)\n",
    "outlier_removal(down_sampled_filename, filtered_filename)"
   ],
   "metadata": {
    "collapsed": false,
    "pycharm": {
     "name": "#%%\n"
    }
   }
  },
  {
   "cell_type": "markdown",
   "metadata": {
    "pycharm": {
     "name": "#%% md\n"
    }
   },
   "source": [
    "# 2. Point Cloud Segmentation\n",
    "\n",
    "## Step 1. DBSCAN clustering"
   ]
  },
  {
   "cell_type": "code",
   "execution_count": null,
   "metadata": {
    "pycharm": {
     "name": "#%%\n"
    }
   },
   "outputs": [],
   "source": [
    "# Input point cloud file\n",
    "filtered_filename = os.path.join(output_path, base_name + \" - filtered\" + extension)"
   ]
  },
  {
   "cell_type": "code",
   "execution_count": null,
   "metadata": {
    "pycharm": {
     "name": "#%%\n"
    }
   },
   "outputs": [],
   "source": [
    "from collections import Counter\n",
    "\n",
    "\n",
    "def dbscan_clustering(input_filename, output_filename, eps=0.10, min_points=5):\n",
    "    # Load the input point cloud file\n",
    "    pcd = o3d.t.io.read_point_cloud(input_filename)\n",
    "    print(pcd.point, '\\n')\n",
    "\n",
    "    # Mask by intensity to acquire low intensity points\n",
    "    intensity_threshold = 50\n",
    "    mask = np.where(pcd.point.intensity.numpy().flatten() <= intensity_threshold, True, False)\n",
    "\n",
    "    # Convert mask to index\n",
    "    index_of_mask = [i for i, boolean_val in enumerate(mask) if boolean_val]\n",
    "\n",
    "    # Extract low intensity points, then perform DBSCAN on them\n",
    "    low_intensity_pcd = pcd.select_by_mask(mask)\n",
    "    labels = low_intensity_pcd.cluster_dbscan(eps, min_points)\n",
    "    labels = labels.numpy()\n",
    "\n",
    "    n_clusters = labels.max() + 1\n",
    "    print(f\"DBSCAN clustering return {n_clusters} clusters.\\n\")\n",
    "\n",
    "    # Clusters will be labeled in a way that cluster with the most points is labeled 1\n",
    "    if n_clusters >= 2:\n",
    "        counter = Counter(labels)\n",
    "\n",
    "        # Remove noise that be labeled -1\n",
    "        del counter[-1]\n",
    "\n",
    "        # Sort by count\n",
    "        sorted_items = sorted(counter.items(), key=lambda x: x[1], reverse=True)\n",
    "        rank = [item[0] for item in sorted_items]\n",
    "\n",
    "        # Add cluster attribute to the input point cloud\n",
    "        cluster = np.zeros(len(mask)).astype(np.int32)\n",
    "        for index, val in enumerate(labels):\n",
    "            if val != -1:\n",
    "                cluster[index_of_mask[index]] = rank.index(val) + 1\n",
    "        pcd.point.cluster = np.reshape(cluster, (len(cluster), 1))\n",
    "        print(pcd.point)\n",
    "\n",
    "        # Save the clustered point cloud to an output file\n",
    "        o3d.t.io.write_point_cloud(output_filename, pcd, write_ascii=False)\n",
    "\n",
    "    else:\n",
    "        print(\"Warning: DBSCAN clustering return less than 2 clusters.\")"
   ]
  },
  {
   "cell_type": "code",
   "execution_count": null,
   "metadata": {
    "pycharm": {
     "name": "#%%\n"
    }
   },
   "outputs": [],
   "source": [
    "# Perform DBSCAN clustering\n",
    "clustered_filename = os.path.join(output_path, base_name + \" - clustered\" + extension)\n",
    "dbscan_clustering(filtered_filename, clustered_filename)"
   ]
  },
  {
   "cell_type": "markdown",
   "metadata": {
    "pycharm": {
     "name": "#%% md\n"
    }
   },
   "source": [
    "## Step 2. Curve fitting"
   ]
  },
  {
   "cell_type": "code",
   "execution_count": null,
   "metadata": {
    "pycharm": {
     "name": "#%%\n"
    }
   },
   "outputs": [],
   "source": [
    "# Input point cloud file\n",
    "clustered_filename = os.path.join(output_path, base_name + \" - clustered\" + extension)"
   ]
  },
  {
   "cell_type": "code",
   "execution_count": null,
   "outputs": [],
   "source": [
    "from scipy import interpolate\n",
    "from scipy.spatial import cKDTree\n",
    "\n",
    "# Curve information is saved for coordinate transformation\n",
    "curve_point_centre = []  # B-spline representation of fitted centre curve\n",
    "\n",
    "\n",
    "def curve_fitting(input_filename):\n",
    "    global curve_point_centre\n",
    "\n",
    "    # Load the input point cloud file\n",
    "    pcd = o3d.t.io.read_point_cloud(input_filename)\n",
    "\n",
    "    # Step 1. Fit two curves on both left and right rails\n",
    "    # Use cluster attribute to extract rail points\n",
    "    cluster = pcd.point.cluster.numpy().flatten()\n",
    "    left_rail_mask = (cluster == 1)\n",
    "    right_rail_mask = (cluster == 2)\n",
    "\n",
    "    left_rail = pcd.select_by_mask(left_rail_mask)\n",
    "    point_left = left_rail.point.positions.numpy()\n",
    "    point_num_left = point_left.shape[0]\n",
    "    print(\"Left rail points:\", point_num_left)\n",
    "\n",
    "    right_rail = pcd.select_by_mask(right_rail_mask)\n",
    "    point_right = right_rail.point.positions.numpy()\n",
    "    point_num_right = point_right.shape[0]\n",
    "    print(\"Right rail points:\", point_num_right, '\\n')\n",
    "\n",
    "    scalar_factor = point_num_left / point_num_right\n",
    "    print(\"scalar_factor:\", scalar_factor, '\\n')\n",
    "\n",
    "    point_left = np.transpose(point_left)  # (n, 3) -> (3, n)\n",
    "    point_right = np.transpose(point_right)\n",
    "\n",
    "    # Find the B-spline representation of an 3-D curve\n",
    "    tck_left, u_left = interpolate.splprep(point_left)\n",
    "    tck_right, u_right = interpolate.splprep(point_right)\n",
    "\n",
    "    u_left_prime = np.linspace(u_left.min(), u_left.max(), point_num_left)\n",
    "    knots_left = interpolate.splev(u_left_prime, tck_left)\n",
    "    curve_point_left = np.column_stack((knots_left[0], knots_left[1], knots_left[2]))\n",
    "\n",
    "    u_right_prime = np.linspace(u_right.min(), u_right.max(), point_num_right)\n",
    "    knots_right = interpolate.splev(u_right_prime, tck_right)\n",
    "    curve_point_right = np.column_stack((knots_right[0], knots_right[1], knots_right[2]))\n",
    "\n",
    "    # Step 2. Calculate the centre line, then fit a curve on it\n",
    "    # Build a kd-tree from the left curve points\n",
    "    kdtree = cKDTree(curve_point_left)\n",
    "\n",
    "    # Query the kd-tree to find the nearest neighbor and its distance\n",
    "    _, nearest_index = kdtree.query(curve_point_right)\n",
    "\n",
    "    # Get the nearest point from the left curve points\n",
    "    nearest_point = curve_point_left[nearest_index]\n",
    "\n",
    "    # Points on the centre line\n",
    "    point_num_centre = point_num_right\n",
    "    point_centre = (nearest_point + curve_point_right) / 2\n",
    "    point_centre = np.transpose(point_centre)  # (n, 3) -> (3, n)\n",
    "\n",
    "    # Fit a curve on centre line\n",
    "    tck_centre, u_prime = interpolate.splprep(point_centre)\n",
    "\n",
    "    u_centre_prime = np.linspace(u_prime.min(), u_prime.max(), point_num_right)\n",
    "    knots_centre = interpolate.splev(u_centre_prime, tck_centre)\n",
    "    curve_point_centre = np.column_stack((knots_centre[0], knots_centre[1], knots_centre[2]))\n",
    "\n",
    "    # Step 3. Store three fitted curves to a separate file\n",
    "    point = np.vstack((curve_point_left, curve_point_right, curve_point_centre))\n",
    "\n",
    "    colors = np.vstack((np.full((curve_point_left.shape[0], 3), [0.0, 0.0, 1.0]),  # color in blue\n",
    "                        np.full((curve_point_right.shape[0], 3), [0.0, 1.0, 0.0]),  # color in green\n",
    "                        np.full((curve_point_centre.shape[0], 3), [1.0, 0.0, 0.0])))  # color in red\n",
    "\n",
    "    curve = np.vstack((np.full((curve_point_left.shape[0], 1), 1),\n",
    "                       np.full((curve_point_right.shape[0], 1), 2),\n",
    "                       np.full((curve_point_centre.shape[0], 1), 3))).astype(np.uint8)\n",
    "\n",
    "    pcd_curve = o3d.t.geometry.PointCloud()\n",
    "    pcd_curve.point.positions = point\n",
    "    pcd_curve.point.colors = colors\n",
    "    pcd_curve.point.curve = curve\n",
    "\n",
    "    # Save the fitted curves for comparison\n",
    "    curve_filename = os.path.join(output_path, base_name + \" - curve\" + extension)\n",
    "    o3d.t.io.write_point_cloud(curve_filename, pcd_curve, write_ascii=False)\n",
    "\n",
    "    return tck_centre, u_centre_prime"
   ],
   "metadata": {
    "collapsed": false,
    "pycharm": {
     "name": "#%%\n"
    }
   }
  },
  {
   "cell_type": "code",
   "execution_count": null,
   "outputs": [],
   "source": [
    "tck_curve, u_curve = curve_fitting(clustered_filename)  # tck, u\n",
    "print(\"Centre curve parameters:\", end=\" \")\n",
    "print(f\"tck_curve[0] - t: {tck_curve[0]}\\n\")\n",
    "print(f\"tck_curve[1] - c: {np.array(tck_curve[1])}\\n\")\n",
    "print(f\"tck_curve[2] - k: {tck_curve[2]}\\n\")\n",
    "print(f\"u_curve: {len(u_curve)} {u_curve}\")"
   ],
   "metadata": {
    "collapsed": false,
    "pycharm": {
     "name": "#%%\n"
    }
   }
  },
  {
   "cell_type": "markdown",
   "source": [
    "## 3. Cross-Section Extraction"
   ],
   "metadata": {
    "collapsed": false,
    "pycharm": {
     "name": "#%% md\n"
    }
   }
  },
  {
   "cell_type": "code",
   "execution_count": null,
   "outputs": [],
   "source": [
    "def segment_ground(input_filename, distance_threshold=0.05, ransac_n=3, num_iterations=1000):\n",
    "    pcd = o3d.t.io.read_point_cloud(input_filename)\n",
    "    plane_model, _ = pcd.segment_plane(distance_threshold, ransac_n, num_iterations)\n",
    "    return plane_model"
   ],
   "metadata": {
    "collapsed": false,
    "pycharm": {
     "name": "#%%\n"
    }
   }
  },
  {
   "cell_type": "code",
   "execution_count": null,
   "outputs": [],
   "source": [
    "a, b, c, d = plane = segment_ground(clustered_filename).numpy()  # ax + by + cz + d = 0\n",
    "print(\"plane parameters:\", plane)"
   ],
   "metadata": {
    "collapsed": false,
    "pycharm": {
     "name": "#%%\n"
    }
   }
  },
  {
   "cell_type": "markdown",
   "source": [
    "## Step 1. Coordinate Transformation"
   ],
   "metadata": {
    "collapsed": false,
    "pycharm": {
     "name": "#%% md\n"
    }
   }
  },
  {
   "cell_type": "code",
   "execution_count": null,
   "outputs": [],
   "source": [
    "# Calculate coordinates in the new coordinate system\n",
    "def coordinate_transformation(input_filename, output_filename):\n",
    "    global curve_point_centre\n",
    "\n",
    "    # Load the input point cloud file\n",
    "    pcd = o3d.t.io.read_point_cloud(input_filename)\n",
    "\n",
    "    # Coordinates in original coordinate system\n",
    "    coordinates = pcd.point.positions.numpy()\n",
    "\n",
    "    # Prepare for coordinate calculation\n",
    "    normal_z = np.array([a, b, c])\n",
    "    if np.dot(normal_z, curve_point_centre[0]) + d < 0:  # centre curve points should have z > 0\n",
    "        normal_z = -normal_z\n",
    "    magnitude_z = np.linalg.norm(normal_z)\n",
    "\n",
    "    normal_y = np.diff(curve_point_centre, axis=0)\n",
    "    normal_y = np.insert(normal_y, 0, [0., 0., 0.], axis=0)\n",
    "    distances = np.linalg.norm(normal_y, axis=1)\n",
    "    cumulate_y = np.cumsum(distances)\n",
    "\n",
    "    print(f\"curve_point_centre: {curve_point_centre.shape}\\n{curve_point_centre[:3]}\\n\")\n",
    "    print(f\"normal_y: {normal_y.shape}\\n{normal_y[:3]}\\n\")\n",
    "    print(f\"distances: {distances.shape}\\n{distances[:3]}\\n\")\n",
    "    print(f\"cumulate_y: {cumulate_y.shape}\\n{cumulate_y[:3]}\\n\")\n",
    "\n",
    "    kdtree_centre = cKDTree(curve_point_centre)\n",
    "    distance, nearest_index = kdtree_centre.query(coordinates)\n",
    "    nearest_point = curve_point_centre[nearest_index]\n",
    "\n",
    "    PQ = coordinates - nearest_point\n",
    "    magnitude_PQ = distance\n",
    "    cross_product = np.cross(normal_z, PQ)\n",
    "    sin_theta = np.linalg.norm(cross_product, axis=1) / (magnitude_z * magnitude_PQ)\n",
    "\n",
    "    dot_product = np.sum(cross_product * normal_y[nearest_index], axis=1)\n",
    "    sign_x = np.where(dot_product > 0, 1, -1)\n",
    "\n",
    "    print(f\"cross_product: {cross_product.shape}\\n{cross_product[:3]}\\n\")\n",
    "    print(f\"normal_y: {normal_y.shape}\\n{normal_y[:3]}\\n\")\n",
    "    print(f\"dot_product: {dot_product.shape}\\n{dot_product[:3]}\\n\")\n",
    "\n",
    "    # Coordinate calculation\n",
    "    x = magnitude_PQ * sin_theta * sign_x\n",
    "    y = cumulate_y[nearest_index]\n",
    "    z = (np.dot(coordinates, normal_z) + d) / magnitude_z\n",
    "\n",
    "    pcd.point.positions = np.column_stack((x, y, z))\n",
    "\n",
    "    o3d.t.io.write_point_cloud(output_filename, pcd, write_ascii=False)"
   ],
   "metadata": {
    "collapsed": false,
    "pycharm": {
     "name": "#%%\n"
    }
   }
  },
  {
   "cell_type": "code",
   "source": [
    "# Perform coordinate transformation\n",
    "transformed_filename = os.path.join(output_path, base_name + \" - transformed\" + extension)\n",
    "coordinate_transformation(clustered_filename, transformed_filename)"
   ],
   "metadata": {
    "collapsed": false,
    "pycharm": {
     "name": "#%%\n"
    }
   },
   "execution_count": null,
   "outputs": []
  },
  {
   "cell_type": "markdown",
   "source": [
    "## Step 2. Crop point cloud"
   ],
   "metadata": {
    "collapsed": false,
    "pycharm": {
     "name": "#%% md\n"
    }
   }
  },
  {
   "cell_type": "code",
   "execution_count": null,
   "outputs": [],
   "source": [
    "# Input point cloud file\n",
    "transformed_filename = os.path.join(output_path, base_name + \" - transformed\" + extension)"
   ],
   "metadata": {
    "collapsed": false,
    "pycharm": {
     "name": "#%%\n"
    }
   }
  },
  {
   "cell_type": "code",
   "execution_count": null,
   "outputs": [],
   "source": [
    "def crop(input_filename, output_filename):\n",
    "    # Load the input point cloud file\n",
    "    pcd = o3d.t.io.read_point_cloud(input_filename)\n",
    "\n",
    "    # Geometric constraint to crop track region\n",
    "    x_min, x_max = [-4.0, 8.0]\n",
    "    y_min, y_max = [1e-1, math.inf]\n",
    "    z_min, z_max = [-math.inf, 1.0]\n",
    "\n",
    "    # Create bounding box\n",
    "    min_bound = np.array([x_min, y_min, z_min])\n",
    "    max_bound = np.array([x_max, y_max, z_max])\n",
    "    bounding_box = o3d.t.geometry.AxisAlignedBoundingBox(min_bound, max_bound)\n",
    "\n",
    "    # Crop the point cloud\n",
    "    pcd = pcd.crop(bounding_box)\n",
    "\n",
    "    o3d.t.io.write_point_cloud(output_filename, pcd, write_ascii=False)"
   ],
   "metadata": {
    "collapsed": false,
    "pycharm": {
     "name": "#%%\n"
    }
   }
  },
  {
   "cell_type": "code",
   "execution_count": null,
   "outputs": [],
   "source": [
    "# Perform crop point cloud\n",
    "cropped_filename = os.path.join(output_path, base_name + \" - cropped\" + extension)\n",
    "crop(transformed_filename, cropped_filename)"
   ],
   "metadata": {
    "collapsed": false,
    "pycharm": {
     "name": "#%%\n"
    }
   }
  },
  {
   "cell_type": "markdown",
   "source": [
    "## Step 3. Split point cloud"
   ],
   "metadata": {
    "collapsed": false,
    "pycharm": {
     "name": "#%% md\n"
    }
   }
  },
  {
   "cell_type": "code",
   "execution_count": null,
   "outputs": [],
   "source": [
    "# Input point cloud file\n",
    "cropped_filename = os.path.join(output_path, base_name + \" - cropped\" + extension)"
   ],
   "metadata": {
    "collapsed": false,
    "pycharm": {
     "name": "#%%\n"
    }
   }
  },
  {
   "cell_type": "code",
   "execution_count": null,
   "outputs": [],
   "source": [
    "def axis_downsampling(data, delta_x=0.001):\n",
    "    # Sort the data points based on x-values\n",
    "    sorted_indices = np.argsort(data[:, 0])\n",
    "    sorted_data = data[sorted_indices]\n",
    "\n",
    "    # Calculate the number of intervals\n",
    "    num_intervals = int(np.ceil((sorted_data[-1, 0] - sorted_data[0, 0]) / delta_x))\n",
    "\n",
    "    downsampled_data = []\n",
    "\n",
    "    interval_start = sorted_data[0, 0]\n",
    "    interval_end = interval_start + delta_x\n",
    "\n",
    "    current_sum = 0\n",
    "    num_points = 0\n",
    "\n",
    "    # Iterate over sorted data points and perform downsampling\n",
    "    for i in range(len(sorted_data)):\n",
    "        if sorted_data[i, 0] < interval_end:\n",
    "            current_sum += sorted_data[i, 1]\n",
    "            num_points += 1\n",
    "        else:\n",
    "            if num_points != 0:\n",
    "                downsampled_data.append([interval_start, current_sum / num_points])\n",
    "\n",
    "            # move to next interval\n",
    "            while not (sorted_data[i, 0] < interval_end):\n",
    "                interval_end += delta_x\n",
    "            interval_start = interval_end - delta_x\n",
    "\n",
    "            current_sum = sorted_data[i, 1]\n",
    "            num_points = 1\n",
    "\n",
    "    # Sort the data points based on x-values\n",
    "    downsampled_data = np.array(downsampled_data)\n",
    "    sorted_indices = np.argsort(downsampled_data[:, 0])\n",
    "    downsampled_data = downsampled_data[sorted_indices]\n",
    "\n",
    "    return downsampled_data"
   ],
   "metadata": {
    "collapsed": false,
    "pycharm": {
     "name": "#%%\n"
    }
   }
  },
  {
   "cell_type": "code",
   "execution_count": null,
   "outputs": [],
   "source": [
    "import bisect\n",
    "\n",
    "from matplotlib import ticker\n",
    "from scipy.interpolate import griddata\n",
    "from scipy.interpolate import splprep, splev\n",
    "\n",
    "\n",
    "def format_axes(ax):\n",
    "    ax.xaxis.set_minor_locator(ticker.AutoMinorLocator())\n",
    "    ax.xaxis.set_major_formatter('{:.1f}'.format)\n",
    "    ax.yaxis.set_minor_locator(ticker.AutoMinorLocator())\n",
    "    ax.yaxis.set_major_formatter('{:.1f}'.format)\n",
    "\n",
    "\n",
    "# Split the point cloud, then draw a depth image and a cross-section image on each slice\n",
    "def split(input_filename, every_k_meter=10):\n",
    "    # Load the input point cloud file\n",
    "    pcd = o3d.t.io.read_point_cloud(input_filename)\n",
    "\n",
    "    x_max_global, y_max_global, z_max_global = pcd.get_max_bound().numpy()\n",
    "    x_min_global, y_min_global, z_min_global = pcd.get_min_bound().numpy()\n",
    "    print(f\"Total length: {y_max_global:.2f} meters\\n\")\n",
    "\n",
    "    y_split_pos = [0]\n",
    "    while y_split_pos[-1] < y_max_global:\n",
    "        y_split_pos.append(y_split_pos[-1] + every_k_meter)\n",
    "\n",
    "    y_boundary = []\n",
    "    for i in range(len(y_split_pos) - 1):\n",
    "        boundary = [y_split_pos[i], y_split_pos[i + 1]]\n",
    "        y_boundary.append(boundary)\n",
    "    print(f\"Split the point cloud into {len(y_boundary)} slices: {y_boundary}\\n\")\n",
    "\n",
    "    slices_path = os.path.join(output_path, base_name + \" - slices\")\n",
    "    os.makedirs(slices_path, exist_ok=True)\n",
    "\n",
    "    pcd_path = os.path.join(slices_path, \"point cloud\")\n",
    "    os.makedirs(pcd_path, exist_ok=True)\n",
    "\n",
    "    image_path = os.path.join(slices_path, \"images\")\n",
    "    os.makedirs(image_path, exist_ok=True)\n",
    "\n",
    "    for y_min_slice, y_max_slice in y_boundary:\n",
    "        # Crop point cloud\n",
    "        min_bound = np.array([x_min_global, y_min_slice, z_min_global])\n",
    "        max_bound = np.array([x_max_global, y_max_slice, z_max_global])\n",
    "        bounding_box = o3d.t.geometry.AxisAlignedBoundingBox(min_bound, max_bound)\n",
    "        pcd_slice = pcd.crop(bounding_box)\n",
    "\n",
    "        # Slice number\n",
    "        slice_number = y_max_slice // 10\n",
    "        slice_base_name = base_name + \" - slice {}\".format(slice_number)\n",
    "\n",
    "        # Extract attributes\n",
    "        intensity = pcd_slice.point.intensity.numpy().flatten()\n",
    "        cluster = pcd_slice.point.cluster.numpy().flatten()\n",
    "        left_rail_mask = (cluster == 1)\n",
    "        right_rail_mask = (cluster == 2)\n",
    "\n",
    "        # Extract points\n",
    "        coordinates = pcd_slice.point.positions.numpy()\n",
    "        x, y, z = coordinates[:, 0], coordinates[:, 1], coordinates[:, 2]\n",
    "        x_min, y_min, z_min = pcd_slice.get_min_bound().numpy()\n",
    "        x_max, y_max, z_max = pcd_slice.get_max_bound().numpy()\n",
    "        point_left = coordinates[left_rail_mask]\n",
    "        point_right = coordinates[right_rail_mask]\n",
    "\n",
    "        # Create a figure and define the grid layout\n",
    "        fig = plt.figure(figsize=(16, 9))  # Set the overall figure size\n",
    "        fig.suptitle(\"Slice Profile — \" + base_name, fontsize=14)\n",
    "        gs = fig.add_gridspec(8, 2)  # Define a grid for subplots\n",
    "\n",
    "        # Create subplots\n",
    "        ax_point = fig.add_subplot(gs[:4, 0], projection=\"3d\")\n",
    "        ax_cross = fig.add_subplot(gs[4:6, 0])\n",
    "        ax_cross_prime = fig.add_subplot(gs[6:, 0])\n",
    "        ax_depth = fig.add_subplot(gs[:7, 1])\n",
    "        ax_text = fig.add_subplot(gs[7, 1])\n",
    "\n",
    "        # 1. Point cloud (left-top, 3D subplot)\n",
    "        # Axes setting\n",
    "        ax_point.set(xlabel=\"x axis\", ylabel=\"y axis\", zlabel=\"z axis\", zticks=[])\n",
    "        ax_point.set_title(f\"Transformed Point Cloud — Slice {slice_number}\", fontsize=12)\n",
    "        ax_point.set_box_aspect([np.ptp(x), np.ptp(y), np.ptp(z)])\n",
    "        ax_point.view_init(elev=45, azim=-115)\n",
    "\n",
    "        # Plotting data\n",
    "        ax_point.scatter3D(x, y, z, s=0.01, marker=',', c=intensity, cmap=\"gray\")  # points\n",
    "        ax_point.plot([0.0, 0.0], [y_min, y_max], [1.0, 1.0], label=\"Centre line\",\n",
    "                      color='r', zorder=10)\n",
    "        ax_point.plot(point_left[:, [0]], point_left[:, [1]], point_left[:, [2]], label=\"Left rail\",\n",
    "                      marker=',', markersize=10, color=\"cornflowerblue\", zorder=10)\n",
    "        ax_point.plot(point_right[:, [0]], point_right[:, [1]], point_right[:, [2]], label=\"Right rail\",\n",
    "                      marker=',', markersize=10, color=\"limegreen\", zorder=10)\n",
    "        ax_point.legend()\n",
    "\n",
    "        # 2. Depth images (right, 2D subplot)\n",
    "        # Axes setting\n",
    "        ax_depth.set(xlabel=\"width (m)\", ylabel=\"mileage (m)\")\n",
    "        ax_depth.set_title(\"Depth Image\", fontsize=12)\n",
    "        format_axes(ax_depth)\n",
    "\n",
    "        # Define the grid on which to interpolate the points\n",
    "        x_threshold = [x_min_global, x_max_global]\n",
    "        if slice_number != len(y_boundary):  # not the last slice\n",
    "            y_threshold = [y_min_slice, y_max_slice]\n",
    "        else:\n",
    "            y_threshold = [y_min, y_max]\n",
    "        ax_depth.set_box_aspect(np.ptp(y_threshold) / np.ptp(x_threshold))  # Axis ratio is fixed\n",
    "\n",
    "        # Interpolate the points onto the grid\n",
    "        grid_x, grid_y = np.mgrid[x_threshold[0]:x_threshold[1]:1200j, y_threshold[0]:y_threshold[1]:1000j]\n",
    "        grid_z = griddata((x, y), z, (grid_x, grid_y), method=\"nearest\")\n",
    "\n",
    "        # Plot the interpolated grid using pcolormesh\n",
    "        z_threshold = [-1.0, 0.3]\n",
    "        pc = ax_depth.pcolormesh(grid_x, grid_y, grid_z, vmin=z_threshold[0], vmax=z_threshold[1], cmap=\"RdBu_r\")\n",
    "        fig.colorbar(pc, ax=ax_depth, extend=\"max\")\n",
    "\n",
    "        # 3. Cross-section image (left-bottom, 2D subplot)\n",
    "        rail_height = 0.176  # 176 mm\n",
    "        rail_head_width = 0.073  # 73 mm\n",
    "        sleeper_length = 2.60  # 2600 mm\n",
    "        sleeper_height = 0.230  # 230 mm\n",
    "        half_sleeper_length = sleeper_length / 2\n",
    "\n",
    "        ideal_top_width = 3.1  # 3.1 m\n",
    "        ideal_slope = 1 / 1.75  # 1:1.75\n",
    "        half_ideal_top_width = ideal_top_width / 2\n",
    "\n",
    "        # Color points\n",
    "        points = np.column_stack((x, z))\n",
    "        interval_endpoint = [-3.0, -1.8, -half_sleeper_length, half_sleeper_length, 1.8, 3.0]\n",
    "\n",
    "        left_remainder = points[points[:, 0] <= interval_endpoint[0]]\n",
    "        left_area = points[(points[:, 0] > interval_endpoint[0]) & (points[:, 0] < interval_endpoint[2])]\n",
    "        sleeper_area = points[(points[:, 0] >= interval_endpoint[2]) & (points[:, 0] <= interval_endpoint[3])]\n",
    "        right_area = points[(points[:, 0] > interval_endpoint[3]) & (points[:, 0] < interval_endpoint[5])]\n",
    "        right_remainder = points[points[:, 0] >= interval_endpoint[5]]\n",
    "\n",
    "        # Compute the left shoulder point first\n",
    "        max_z_index = np.argmax(left_area[:, 1])\n",
    "        max_point = left_area[max_z_index]\n",
    "        interval_endpoint[1] = max_point[0]\n",
    "\n",
    "        # Then use interval endpoints to separate regions\n",
    "        left_slope = left_area[left_area[:, 0] <= interval_endpoint[1]]\n",
    "        left_shoulder = left_area[left_area[:, 0] > interval_endpoint[1]]\n",
    "\n",
    "        right_shoulder = right_area[right_area[:, 0] < interval_endpoint[4]]\n",
    "        right_slope = right_area[right_area[:, 0] >= interval_endpoint[4]]\n",
    "\n",
    "        # 3.1 Cross-section image (left-bottom 1)\n",
    "        # Axes setting\n",
    "        ax_cross.set(ylabel=\"Z\")\n",
    "        ax_cross.set_title(\"Cross-section Image\", loc=\"left\", fontsize=12)\n",
    "        ax_cross.set_title(\"Inspection Profile\")\n",
    "        format_axes(ax_cross)\n",
    "\n",
    "        # Plotting data\n",
    "        regions = [sleeper_area, left_slope, left_shoulder, right_shoulder]\n",
    "        labels = [\"Sleeper region\", \"Left slope\", \"Left shoulder\", \"Right shoulder\"]\n",
    "        colors = [\"red\", \"cornflowerblue\", \"orange\", \"limegreen\"]\n",
    "        for i in range(len(regions)):\n",
    "            ax_cross.scatter(regions[i][:, 0], regions[i][:, 1], marker='^', s=0.01, c=colors[i], label=labels[i])\n",
    "\n",
    "        point_on_top = [max_point[0], -half_sleeper_length, half_sleeper_length, interval_endpoint[4]]\n",
    "        colors = [\"cornflowerblue\", \"red\", \"red\", \"limegreen\"]\n",
    "        for i in range(len(point_on_top)):\n",
    "            ax_cross.plot([point_on_top[i], point_on_top[i]], [0, -1.0], linestyle='--', c=colors[i])\n",
    "\n",
    "        remainder = np.vstack((left_remainder, right_remainder, right_slope))\n",
    "        ax_cross.scatter(remainder[:, 0], remainder[:, 1], s=0.01, marker='^', c=\"gray\")\n",
    "\n",
    "        z_threshold = [-1.0, 1.0]  # different from depth image\n",
    "        ax_cross.set_xlim(x_threshold)\n",
    "        ax_cross.set_ylim(z_threshold)\n",
    "        ax_cross.set_box_aspect(np.ptp(z_threshold) / np.ptp(x_threshold))\n",
    "        ax_cross.set_yticks([-1.0, 0.0, 1.0])\n",
    "\n",
    "        ax_cross.legend(markerscale=50)\n",
    "\n",
    "        # 3.2 Cross-section image (left-bottom 2)\n",
    "        # Axes setting\n",
    "        ax_cross_prime.set(xlabel=\"X\", ylabel=\"Z\")\n",
    "        ax_cross_prime.set_title(\"Comparison Diagram\")\n",
    "        format_axes(ax_cross_prime)\n",
    "\n",
    "        # Plotting data\n",
    "        delta_x = 0.001\n",
    "        ballast_bed_points = np.vstack((left_slope, left_shoulder, sleeper_area, right_shoulder, right_slope))\n",
    "        ballast_bed_points = axis_downsampling(ballast_bed_points, delta_x)\n",
    "\n",
    "        # Fit a B-spline curve to the points\n",
    "        tck, u = splprep(ballast_bed_points.T, s=0.4)\n",
    "        u_prime = np.linspace(u.min(), u.max(), 1000)\n",
    "        x_prime, y_prime = splev(u_prime, tck)\n",
    "\n",
    "        # Plot ideal section and actual section\n",
    "        ax_cross_prime.plot([-half_ideal_top_width, half_ideal_top_width], [0, 0], c=\"red\", label=\"Ideal section\")\n",
    "        ax_cross_prime.plot(x_prime, y_prime, c=\"limegreen\", label=\"Actual section\", zorder=10)\n",
    "\n",
    "        width_offset = 2\n",
    "        height_offset = ideal_slope * width_offset\n",
    "        ax_cross_prime.plot([-half_ideal_top_width, -(half_ideal_top_width + width_offset)],  # ideal left slope\n",
    "                            [0, -height_offset], c=\"red\")\n",
    "        ax_cross_prime.plot([half_ideal_top_width, half_ideal_top_width + width_offset],  # ideal right slope\n",
    "                            [0, -height_offset], c=\"red\")\n",
    "\n",
    "        # Plot vertical lines\n",
    "        point_on_top = [-half_sleeper_length, half_sleeper_length]\n",
    "        for point in point_on_top:\n",
    "            ax_cross_prime.plot([point, point], [0, -1.0], linestyle='--', c='r')\n",
    "        ax_cross_prime.plot([0, 0], [0, -1.0], linestyle='--', c='k')\n",
    "\n",
    "        # Left shoulder point\n",
    "        index = bisect.bisect_left(ballast_bed_points[:, 0], max_point[0])\n",
    "        max_point_prime = ballast_bed_points[index]\n",
    "\n",
    "        ax_cross_prime.plot([max_point_prime[0]], [max_point_prime[1]], marker='o', c=\"cornflowerblue\", zorder=20)\n",
    "        ax_cross_prime.plot([max_point_prime[0], max_point_prime[0]], [max_point_prime[1], -1.0], linestyle='--',\n",
    "                            c=\"cornflowerblue\", zorder=20)\n",
    "        ax_cross_prime.annotate(\"Left shoulder\",\n",
    "                                xy=(max_point_prime[0] - 0.05, max_point_prime[1] + 0.05),\n",
    "                                xytext=(-2.8, 0.25),\n",
    "                                arrowprops=dict(facecolor=\"cornflowerblue\", headwidth=10, headlength=10))\n",
    "\n",
    "        ax_cross_prime.legend(loc=\"lower right\")\n",
    "\n",
    "        x_threshold_prime = [-3.0, 3.0]\n",
    "        z_threshold_prime = [-1.0, 0.5]\n",
    "        ax_cross_prime.set_xlim(x_threshold_prime)\n",
    "        ax_cross_prime.set_ylim(z_threshold_prime)\n",
    "        ax_cross_prime.set_box_aspect(np.ptp(z_threshold_prime) / np.ptp(x_threshold_prime))\n",
    "        ax_cross_prime.set_yticks([-1.0, -0.5, 0.0, 0.5])\n",
    "\n",
    "        # 4. Statistic data\n",
    "        # Linear fitting\n",
    "        coefficients = np.polyfit(left_slope[:, 0], left_slope[:, 1], 1)\n",
    "        slope, y_intercept = coefficients[0], coefficients[1]\n",
    "\n",
    "        left_slope_value = 1 / slope\n",
    "        left_shoulder_width = (-max_point[0] - half_sleeper_length) * 1000  # mm\n",
    "        # ideal_shoulder_width = (half_ideal_top_width - half_sleeper_length) * 1000\n",
    "\n",
    "        text_left = f\"\"\"\n",
    "        Left  slope — 1 : {left_slope_value:.2f}\\n\n",
    "        Ideal slope — 1 : 1.75\\n\n",
    "        \"\"\"\n",
    "\n",
    "        text_right = f\"\"\"\n",
    "        Left  shoulder width — {left_shoulder_width:.0f} mm\\n\n",
    "        Ideal shoulder width — 450 mm\\n\n",
    "        \"\"\"\n",
    "\n",
    "        ax_text.text(0, 0.5, text_left, ha=\"left\", va=\"center\", fontsize=12)\n",
    "        ax_text.text(0.4, 0.5, text_right, ha=\"left\", va=\"center\", fontsize=12)\n",
    "\n",
    "        ax_text.set_xlim(0, 1)\n",
    "        ax_text.set_ylim(0, 1)\n",
    "\n",
    "        ax_text.axis(\"off\")\n",
    "\n",
    "        # Plotting complete, save the image\n",
    "        plt.tight_layout()\n",
    "\n",
    "        image_filename = os.path.join(image_path, slice_base_name + \".png\")\n",
    "        fig.savefig(image_filename, format=\"png\", dpi=300)\n",
    "\n",
    "        # Save the split point cloud\n",
    "        pcd_filename = os.path.join(pcd_path, slice_base_name + extension)\n",
    "        o3d.t.io.write_point_cloud(pcd_filename, pcd_slice, write_ascii=False)"
   ],
   "metadata": {
    "collapsed": false,
    "pycharm": {
     "name": "#%%\n"
    }
   }
  },
  {
   "cell_type": "code",
   "execution_count": null,
   "outputs": [],
   "source": [
    "# Perform split point cloud\n",
    "split(cropped_filename)"
   ],
   "metadata": {
    "collapsed": false,
    "pycharm": {
     "name": "#%%\n"
    }
   }
  }
 ],
 "metadata": {
  "kernelspec": {
   "display_name": "Python 3 (ipykernel)",
   "language": "python",
   "name": "python3"
  },
  "language_info": {
   "codemirror_mode": {
    "name": "ipython",
    "version": 3
   },
   "file_extension": ".py",
   "mimetype": "text/x-python",
   "name": "python",
   "nbconvert_exporter": "python",
   "pygments_lexer": "ipython3",
   "version": "3.8.16"
  }
 },
 "nbformat": 4,
 "nbformat_minor": 1
}