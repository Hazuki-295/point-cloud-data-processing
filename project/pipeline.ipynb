{
 "cells": [
  {
   "cell_type": "markdown",
   "metadata": {
    "collapsed": true,
    "pycharm": {
     "name": "#%% md\n"
    }
   },
   "source": [
    "# Environment Setup"
   ]
  },
  {
   "cell_type": "code",
   "execution_count": 1,
   "outputs": [
    {
     "name": "stdout",
     "output_type": "stream",
     "text": [
      "Jupyter environment detected. Enabling Open3D WebVisualizer.\n",
      "[Open3D INFO] WebRTC GUI backend enabled.\n",
      "[Open3D INFO] WebRTCWindowSystem: HTTP handshake server disabled.\n"
     ]
    }
   ],
   "source": [
    "import os\n",
    "import sys\n",
    "from collections import Counter\n",
    "\n",
    "import numpy as np\n",
    "import open3d as o3d\n",
    "\n",
    "# Python version\n",
    "assert sys.version_info >= (3, 8)\n",
    "# Open3D version\n",
    "assert o3d.__version__ >= \"0.17.0\""
   ],
   "metadata": {
    "collapsed": false,
    "pycharm": {
     "name": "#%%\n"
    }
   }
  },
  {
   "cell_type": "code",
   "execution_count": 2,
   "outputs": [],
   "source": [
    "# Point cloud file I/O\n",
    "filename = \"data/input/iScan-Pcd-1-1.ply\"\n",
    "base_name, extension = os.path.splitext(os.path.basename(filename))\n",
    "\n",
    "output_filepath = \"data/output\"\n",
    "if not os.path.exists(output_filepath):\n",
    "    os.makedirs(output_filepath)"
   ],
   "metadata": {
    "collapsed": false,
    "pycharm": {
     "name": "#%%\n"
    }
   }
  },
  {
   "cell_type": "markdown",
   "source": [
    "# 1. Point Cloud Filtering\n",
    "\n",
    "## Step 1. Down-sampling"
   ],
   "metadata": {
    "collapsed": false,
    "pycharm": {
     "name": "#%% md\n"
    }
   }
  },
  {
   "cell_type": "code",
   "execution_count": 3,
   "outputs": [],
   "source": [
    "def down_sample(input_filename, output_filename):\n",
    "    # Load the input point cloud file\n",
    "    pcd = o3d.t.io.read_point_cloud(input_filename)\n",
    "\n",
    "    # Function uniformly down-samples the point cloud, evenly select 1 point for every k points\n",
    "    down_sampled_pcd = pcd.uniform_down_sample(every_k_points=10)\n",
    "\n",
    "    # Save the down-sampled point cloud to an output file\n",
    "    o3d.t.io.write_point_cloud(output_filename, down_sampled_pcd, write_ascii=False)"
   ],
   "metadata": {
    "collapsed": false,
    "pycharm": {
     "name": "#%%\n"
    }
   }
  },
  {
   "cell_type": "code",
   "execution_count": 4,
   "outputs": [],
   "source": [
    "# Perform down sampling\n",
    "down_sampled_filename = os.path.join(output_filepath, base_name + \" - downsampled\" + extension)\n",
    "down_sample(filename, down_sampled_filename)"
   ],
   "metadata": {
    "collapsed": false,
    "pycharm": {
     "name": "#%%\n"
    }
   }
  },
  {
   "cell_type": "markdown",
   "source": [
    "## Step 2. Crop the point cloud\n",
    "This step is done in `CloudCompare` software manually."
   ],
   "metadata": {
    "collapsed": false,
    "pycharm": {
     "name": "#%% md\n"
    }
   }
  },
  {
   "cell_type": "markdown",
   "source": [
    "## Step 3. Outlier removal"
   ],
   "metadata": {
    "collapsed": false
   }
  },
  {
   "cell_type": "code",
   "execution_count": 5,
   "outputs": [],
   "source": [
    "# Input point cloud file\n",
    "cropped_filename = os.path.join(output_filepath, base_name + \" - cropped\" + extension)"
   ],
   "metadata": {
    "collapsed": false,
    "pycharm": {
     "name": "#%%\n"
    }
   }
  },
  {
   "cell_type": "code",
   "execution_count": 6,
   "outputs": [],
   "source": [
    "def outlier_removal(input_filename, output_filename, visualize=False):\n",
    "    # Load the input point cloud file\n",
    "    pcd = o3d.t.io.read_point_cloud(input_filename)\n",
    "\n",
    "    # Statistical outlier removal\n",
    "    filtered_pcd, mask = pcd.remove_statistical_outliers(nb_neighbors=20, std_ratio=16.0)\n",
    "\n",
    "    # Color outliers in red\n",
    "    outlier = pcd.select_by_mask(mask, invert=True)\n",
    "    outlier.paint_uniform_color([1.0, 0.0, 0.0])\n",
    "    print(f\"Remove {outlier.point.positions.shape[0]} outliers.\")\n",
    "\n",
    "    # Visualize the outlier\n",
    "    if visualize:\n",
    "        inlier = pcd.select_by_mask(mask)\n",
    "        inlier.paint_uniform_color([0.8, 0.8, 0.8])  # color in grey\n",
    "        o3d.visualization.draw_geometries([inlier.to_legacy(), outlier.to_legacy()],\n",
    "                                          window_name=\"Visualization — {}\".format(input_filename),\n",
    "                                          width=1000, height=800, left=400, top=150)\n",
    "\n",
    "    # Save the outlier for comparison\n",
    "    outlier_filename = os.path.join(output_filepath, base_name + \" - outlier\" + extension)\n",
    "    o3d.t.io.write_point_cloud(outlier_filename, outlier, write_ascii=False)\n",
    "\n",
    "    # Save the filtered point cloud to an output file\n",
    "    o3d.t.io.write_point_cloud(output_filename, filtered_pcd, write_ascii=False)"
   ],
   "metadata": {
    "collapsed": false,
    "pycharm": {
     "name": "#%%\n"
    }
   }
  },
  {
   "cell_type": "code",
   "execution_count": 7,
   "outputs": [
    {
     "name": "stdout",
     "output_type": "stream",
     "text": [
      "Remove 151 outliers.\n"
     ]
    }
   ],
   "source": [
    "# Perform outlier removal\n",
    "filtered_filename = os.path.join(output_filepath, base_name + \" - filtered\" + extension)\n",
    "outlier_removal(cropped_filename, filtered_filename, visualize=False)"
   ],
   "metadata": {
    "collapsed": false,
    "pycharm": {
     "name": "#%%\n"
    }
   }
  },
  {
   "cell_type": "markdown",
   "source": [
    "# 2. Point Cloud Segmentation\n",
    "\n",
    "## Step 1. Mask by intensity"
   ],
   "metadata": {
    "collapsed": false,
    "pycharm": {
     "name": "#%% md\n"
    }
   }
  },
  {
   "cell_type": "code",
   "execution_count": 8,
   "outputs": [],
   "source": [
    "# Input point cloud file\n",
    "filtered_filename = os.path.join(output_filepath, base_name + \" - filtered\" + extension)"
   ],
   "metadata": {
    "collapsed": false,
    "pycharm": {
     "name": "#%%\n"
    }
   }
  },
  {
   "cell_type": "code",
   "execution_count": 9,
   "outputs": [],
   "source": [
    "def mask_intensity(input_filename, output_filename):\n",
    "    # Load the input point cloud file\n",
    "    pcd = o3d.t.io.read_point_cloud(input_filename)\n",
    "    print(pcd.point, '\\n')\n",
    "\n",
    "    # Add mask attribute to acquire low intensity points\n",
    "    intensity_threshold = 50\n",
    "    mask = np.where(pcd.point.scalar_intensity.numpy() <= intensity_threshold, 1, 0).astype(np.uint8)\n",
    "    pcd.point.mask = np.reshape(mask, (len(mask), 1))\n",
    "\n",
    "    print(pcd.point)\n",
    "\n",
    "    # Save the masked point cloud to an output file\n",
    "    o3d.t.io.write_point_cloud(output_filename, pcd, write_ascii=False)"
   ],
   "metadata": {
    "collapsed": false,
    "pycharm": {
     "name": "#%%\n"
    }
   }
  },
  {
   "cell_type": "code",
   "execution_count": 10,
   "outputs": [
    {
     "name": "stdout",
     "output_type": "stream",
     "text": [
      "TensorMap(primary_key=\"positions\") with 2 attributes:\n",
      "  - positions       : shape={1902497, 3}, dtype=Float64, device=CPU:0 (primary)\n",
      "  - scalar_intensity: shape={1902497, 1}, dtype=Float32, device=CPU:0\n",
      "  (Use . to access attributes, e.g., tensor_map.positions) \n",
      "\n",
      "TensorMap(primary_key=\"positions\") with 3 attributes:\n",
      "  - mask            : shape={1902497, 1}, dtype=UInt8, device=CPU:0\n",
      "  - positions       : shape={1902497, 3}, dtype=Float64, device=CPU:0 (primary)\n",
      "  - scalar_intensity: shape={1902497, 1}, dtype=Float32, device=CPU:0\n",
      "  (Use . to access attributes, e.g., tensor_map.positions)\n"
     ]
    }
   ],
   "source": [
    "# Perform mask by intensity\n",
    "masked_filename = os.path.join(output_filepath, base_name + \" - masked\" + extension)\n",
    "mask_intensity(filtered_filename, masked_filename)"
   ],
   "metadata": {
    "collapsed": false,
    "pycharm": {
     "name": "#%%\n"
    }
   }
  },
  {
   "cell_type": "markdown",
   "source": [
    "## Step 2. DBSCAN clustering"
   ],
   "metadata": {
    "collapsed": false,
    "pycharm": {
     "name": "#%% md\n"
    }
   }
  },
  {
   "cell_type": "code",
   "execution_count": 11,
   "outputs": [],
   "source": [
    "# Input point cloud file\n",
    "masked_filename = os.path.join(output_filepath, base_name + \" - masked\" + extension)"
   ],
   "metadata": {
    "collapsed": false,
    "pycharm": {
     "name": "#%%\n"
    }
   }
  },
  {
   "cell_type": "code",
   "execution_count": 12,
   "outputs": [],
   "source": [
    "def dbscan_clustering(input_filename, output_filename):\n",
    "    # Load the input point cloud file\n",
    "    pcd = o3d.t.io.read_point_cloud(input_filename)\n",
    "\n",
    "    # Convert form uint8 to bool\n",
    "    mask = pcd.point.mask.numpy()\n",
    "    mask = [bool(x) for x in mask]\n",
    "\n",
    "    # Convert mask to index\n",
    "    index_of_mask = [i for i, boolean_val in enumerate(mask) if boolean_val]\n",
    "\n",
    "    # Extract low intensity points, then perform DBSCAN on them\n",
    "    low_intensity_pcd = pcd.select_by_mask(mask)\n",
    "    labels = low_intensity_pcd.cluster_dbscan(eps=0.10, min_points=5)\n",
    "    labels = labels.numpy()\n",
    "\n",
    "    n_clusters = labels.max() + 1\n",
    "    print(f\"DBSCAN clustering return {n_clusters} clusters.\\n\")\n",
    "\n",
    "    # Clusters will be labeled in a way that cluster with the most points is labeled 1\n",
    "    if n_clusters >= 2:\n",
    "        counter = Counter(labels)\n",
    "        print(counter, '\\n')\n",
    "\n",
    "        # Remove noise that be labeled -1\n",
    "        del counter[-1]\n",
    "\n",
    "        # Sort by count\n",
    "        sorted_items = sorted(counter.items(), key=lambda x: x[1], reverse=True)\n",
    "        rank = [item[0] for item in sorted_items]\n",
    "        print(rank, '\\n')\n",
    "\n",
    "        # Add cluster attribute to the input point cloud\n",
    "        cluster = np.zeros(len(mask)).astype(np.int32)\n",
    "        for index, val in enumerate(labels):\n",
    "            if val != -1:\n",
    "                cluster[index_of_mask[index]] = rank.index(val) + 1\n",
    "        pcd.point.cluster = np.reshape(cluster, (len(cluster), 1))\n",
    "\n",
    "        print(pcd.point)\n",
    "\n",
    "        # Save the clustered point cloud to an output file\n",
    "        o3d.t.io.write_point_cloud(output_filename, pcd, write_ascii=False)\n",
    "\n",
    "    else:\n",
    "        print(\"Warning: DBSCAN clustering return less than 2 clusters.\")"
   ],
   "metadata": {
    "collapsed": false,
    "pycharm": {
     "name": "#%%\n"
    }
   }
  },
  {
   "cell_type": "code",
   "execution_count": 13,
   "outputs": [
    {
     "name": "stdout",
     "output_type": "stream",
     "text": [
      "DBSCAN clustering return 13 clusters.\n",
      "\n",
      "Counter({0: 16946, 1: 11024, -1: 583, 6: 57, 8: 51, 11: 50, 5: 36, 12: 25, 2: 9, 3: 8, 4: 7, 9: 6, 7: 5, 10: 5}) \n",
      "\n",
      "[0, 1, 6, 8, 11, 5, 12, 2, 3, 4, 9, 7, 10] \n",
      "\n",
      "TensorMap(primary_key=\"positions\") with 4 attributes:\n",
      "  - cluster         : shape={1902497, 1}, dtype=Int32, device=CPU:0\n",
      "  - mask            : shape={1902497, 1}, dtype=UInt8, device=CPU:0\n",
      "  - positions       : shape={1902497, 3}, dtype=Float64, device=CPU:0 (primary)\n",
      "  - scalar_intensity: shape={1902497, 1}, dtype=Float32, device=CPU:0\n",
      "  (Use . to access attributes, e.g., tensor_map.positions)\n"
     ]
    }
   ],
   "source": [
    "clustered_filename = os.path.join(output_filepath, base_name + \" - clustered\" + extension)\n",
    "dbscan_clustering(masked_filename, clustered_filename)"
   ],
   "metadata": {
    "collapsed": false,
    "pycharm": {
     "name": "#%%\n"
    }
   }
  }
 ],
 "metadata": {
  "kernelspec": {
   "display_name": "Python 3",
   "language": "python",
   "name": "python3"
  },
  "language_info": {
   "codemirror_mode": {
    "name": "ipython",
    "version": 2
   },
   "file_extension": ".py",
   "mimetype": "text/x-python",
   "name": "python",
   "nbconvert_exporter": "python",
   "pygments_lexer": "ipython2",
   "version": "2.7.6"
  }
 },
 "nbformat": 4,
 "nbformat_minor": 0
}