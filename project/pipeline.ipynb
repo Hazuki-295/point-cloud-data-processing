{
 "cells": [
  {
   "cell_type": "markdown",
   "metadata": {
    "collapsed": true,
    "pycharm": {
     "name": "#%% md\n"
    }
   },
   "source": [
    "# Environment Setup"
   ]
  },
  {
   "cell_type": "code",
   "execution_count": 1,
   "outputs": [
    {
     "name": "stdout",
     "output_type": "stream",
     "text": [
      "Jupyter environment detected. Enabling Open3D WebVisualizer.\n",
      "[Open3D INFO] WebRTC GUI backend enabled.\n",
      "[Open3D INFO] WebRTCWindowSystem: HTTP handshake server disabled.\n"
     ]
    }
   ],
   "source": [
    "import os\n",
    "import sys\n",
    "\n",
    "import open3d as o3d\n",
    "\n",
    "from tutorials.open3d import visualization\n",
    "\n",
    "# Python version\n",
    "assert sys.version_info >= (3, 8)\n",
    "# Open3D version\n",
    "assert o3d.__version__ >= \"0.17.0\""
   ],
   "metadata": {
    "collapsed": false,
    "pycharm": {
     "name": "#%%\n"
    }
   }
  },
  {
   "cell_type": "markdown",
   "source": [
    "# 1. Point Cloud Filtering"
   ],
   "metadata": {
    "collapsed": false,
    "pycharm": {
     "name": "#%% md\n"
    }
   }
  },
  {
   "cell_type": "code",
   "execution_count": 2,
   "outputs": [],
   "source": [
    "# Point cloud file I/O\n",
    "filename = \"data/input/iScan-Pcd-1-1.ply\"\n",
    "base_name, extension = os.path.splitext(os.path.basename(filename))\n",
    "\n",
    "output_filepath = \"data/output\"\n",
    "if not os.path.exists(output_filepath):\n",
    "    os.makedirs(output_filepath)"
   ],
   "metadata": {
    "collapsed": false,
    "pycharm": {
     "name": "#%%\n"
    }
   }
  },
  {
   "cell_type": "markdown",
   "source": [
    "## Step 1. Down-sampling"
   ],
   "metadata": {
    "collapsed": false,
    "pycharm": {
     "name": "#%% md\n"
    }
   }
  },
  {
   "cell_type": "code",
   "execution_count": 3,
   "outputs": [],
   "source": [
    "def down_sample(input_filename, output_filename):\n",
    "    # Load the input point cloud file\n",
    "    pcd = o3d.t.io.read_point_cloud(input_filename)\n",
    "\n",
    "    # Function uniformly down-samples the point cloud, evenly select 1 point for every k points\n",
    "    down_sampled_pcd = pcd.uniform_down_sample(every_k_points=10)\n",
    "\n",
    "    # Save the down-sampled point cloud to an output file\n",
    "    o3d.t.io.write_point_cloud(output_filename, down_sampled_pcd, write_ascii=False)"
   ],
   "metadata": {
    "collapsed": false,
    "pycharm": {
     "name": "#%%\n"
    }
   }
  },
  {
   "cell_type": "code",
   "execution_count": 4,
   "outputs": [],
   "source": [
    "# Perform down sampling\n",
    "down_sampled_filename = os.path.join(output_filepath, base_name + \" - downsampled\" + extension)\n",
    "down_sample(filename, down_sampled_filename)"
   ],
   "metadata": {
    "collapsed": false,
    "pycharm": {
     "name": "#%%\n"
    }
   }
  },
  {
   "cell_type": "code",
   "execution_count": 5,
   "outputs": [],
   "source": [
    "# Visualize down sampled result\n",
    "visualization.visualization(down_sampled_filename)"
   ],
   "metadata": {
    "collapsed": false,
    "pycharm": {
     "name": "#%%\n"
    }
   }
  },
  {
   "cell_type": "markdown",
   "source": [
    "## Step 2. Crop the point cloud\n",
    "This step is done in `CloudCompare` software manually."
   ],
   "metadata": {
    "collapsed": false,
    "pycharm": {
     "name": "#%% md\n"
    }
   }
  },
  {
   "cell_type": "markdown",
   "source": [
    "## Step 3. Outlier removal"
   ],
   "metadata": {
    "collapsed": false
   }
  },
  {
   "cell_type": "code",
   "execution_count": 6,
   "outputs": [],
   "source": [
    "cropped_filename = os.path.join(output_filepath, base_name + \" - cropped\" + extension)"
   ],
   "metadata": {
    "collapsed": false,
    "pycharm": {
     "name": "#%%\n"
    }
   }
  },
  {
   "cell_type": "code",
   "execution_count": 7,
   "outputs": [],
   "source": [
    "def outlier_removal(input_filename, output_filename, visualize=False):\n",
    "    # Load the input point cloud file\n",
    "    pcd = o3d.t.io.read_point_cloud(input_filename)\n",
    "\n",
    "    # Statistical outlier removal\n",
    "    filtered_pcd, mask = pcd.remove_statistical_outliers(nb_neighbors=20, std_ratio=16.0)\n",
    "\n",
    "    # Visualize and save the outlier into a separate file for comparison\n",
    "    if visualize:\n",
    "        inlier = pcd.select_by_mask(mask)\n",
    "        outlier = pcd.select_by_mask(mask, invert=True)\n",
    "\n",
    "        inlier.paint_uniform_color([0.7, 0.8, 0.9])  # color in light blue\n",
    "        outlier.paint_uniform_color([1.0, 0.0, 0.0])  # color in red\n",
    "\n",
    "        o3d.visualization.draw_geometries([inlier.to_legacy(), outlier.to_legacy()],\n",
    "                                          window_name=\"Visualization — {}\".format(input_filename),\n",
    "                                          width=1000, height=800, left=400, top=150)\n",
    "\n",
    "        # Save the outlier for comparison\n",
    "        outlier_filename = os.path.join(output_filepath, \"outlier.ply\")\n",
    "        o3d.t.io.write_point_cloud(outlier_filename, outlier, write_ascii=False)\n",
    "\n",
    "    # Save the filtered point cloud to an output file\n",
    "    o3d.t.io.write_point_cloud(output_filename, filtered_pcd, write_ascii=False)"
   ],
   "metadata": {
    "collapsed": false,
    "pycharm": {
     "name": "#%%\n"
    }
   }
  },
  {
   "cell_type": "code",
   "execution_count": 8,
   "outputs": [],
   "source": [
    "# Perform outlier removal\n",
    "filtered_filename = os.path.join(output_filepath, base_name + \" - filtered\" + extension)\n",
    "outlier_removal(cropped_filename, filtered_filename, visualize=True)"
   ],
   "metadata": {
    "collapsed": false,
    "pycharm": {
     "name": "#%%\n"
    }
   }
  }
 ],
 "metadata": {
  "kernelspec": {
   "display_name": "Python 3",
   "language": "python",
   "name": "python3"
  },
  "language_info": {
   "codemirror_mode": {
    "name": "ipython",
    "version": 2
   },
   "file_extension": ".py",
   "mimetype": "text/x-python",
   "name": "python",
   "nbconvert_exporter": "python",
   "pygments_lexer": "ipython2",
   "version": "2.7.6"
  }
 },
 "nbformat": 4,
 "nbformat_minor": 0
}