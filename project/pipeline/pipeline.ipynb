{
 "cells": [
  {
   "cell_type": "code",
   "execution_count": null,
   "metadata": {
    "pycharm": {
     "name": "#%%\n"
    }
   },
   "outputs": [],
   "source": [
    "import sys\n",
    "\n",
    "import open3d as o3d\n",
    "\n",
    "# Python version\n",
    "assert sys.version_info >= (3, 8)\n",
    "# Open3D version\n",
    "assert o3d.__version__ >= \"0.17.0\""
   ]
  },
  {
   "cell_type": "code",
   "execution_count": null,
   "metadata": {
    "pycharm": {
     "name": "#%%\n"
    }
   },
   "outputs": [],
   "source": [
    "# File directories\n",
    "input_path = \"data/input/\"\n",
    "preprocessed_path = \"data/preprocessed/\"\n",
    "transformed_path = \"data/transformed/\"\n",
    "output_path = \"data/output/\"\n",
    "\n",
    "i_include = list(range(1, 11))"
   ]
  },
  {
   "cell_type": "code",
   "execution_count": null,
   "outputs": [],
   "source": [
    "import subprocess\n",
    "import pty\n",
    "import os\n",
    "\n",
    "\n",
    "# Run a command and print its output in real-time.\n",
    "def run_command_realtime(command):\n",
    "    # Create a pseudo-terminal and spawn the subprocess\n",
    "    master, slave = pty.openpty()\n",
    "    process = subprocess.Popen(command, stdin=slave, stdout=slave, stderr=slave, universal_newlines=True)\n",
    "\n",
    "    # Close the slave file descriptor as it's not needed\n",
    "    os.close(slave)\n",
    "\n",
    "    # Read and print the output line by line in real-time\n",
    "    while True:\n",
    "        output_line = os.read(master, 1024).decode()\n",
    "        if not output_line:\n",
    "            break\n",
    "        print(output_line, end='', flush=True)\n",
    "\n",
    "    # Wait for the process to finish\n",
    "    process.wait()"
   ],
   "metadata": {
    "collapsed": false
   }
  },
  {
   "cell_type": "markdown",
   "metadata": {
    "pycharm": {
     "name": "#%% md\n"
    }
   },
   "source": [
    "# Part 1. Point Cloud Processing"
   ]
  },
  {
   "cell_type": "markdown",
   "metadata": {},
   "source": [
    "## Step 1. Preprocess"
   ]
  },
  {
   "cell_type": "code",
   "execution_count": null,
   "metadata": {
    "pycharm": {
     "name": "#%%\n"
    }
   },
   "outputs": [],
   "source": [
    "# List of file paths to process\n",
    "file_paths = [os.path.join(input_path, f\"iScan-Pcd-1-{i}.ply\") for i in i_include]\n",
    "\n",
    "# Define the command as a list of strings\n",
    "command_to_run = [\"python\", \"preprocess.py\"]\n",
    "command_to_run.extend(file_paths)\n",
    "\n",
    "# Run the command\n",
    "run_command_realtime(command_to_run)"
   ]
  },
  {
   "cell_type": "markdown",
   "metadata": {
    "pycharm": {
     "name": "#%% md\n"
    }
   },
   "source": [
    "## Step 2. Transform"
   ]
  },
  {
   "cell_type": "code",
   "execution_count": null,
   "metadata": {
    "pycharm": {
     "name": "#%%\n"
    }
   },
   "outputs": [],
   "source": [
    "# List of file paths to process\n",
    "file_paths = [os.path.join(preprocessed_path, f\"iScan-Pcd-1-{i} - preprocessed.ply\") for i in i_include]\n",
    "\n",
    "# Define the command as a list of strings\n",
    "command_to_run = [\"python\", \"transform.py\"]\n",
    "command_to_run.extend(file_paths)\n",
    "\n",
    "# Run the command\n",
    "run_command_realtime(command_to_run)"
   ]
  },
  {
   "cell_type": "markdown",
   "metadata": {
    "pycharm": {
     "name": "#%% md\n"
    }
   },
   "source": [
    "## Step 3. Visualized analysis"
   ]
  },
  {
   "cell_type": "code",
   "execution_count": null,
   "metadata": {},
   "outputs": [],
   "source": [
    "# List of file paths to process\n",
    "file_paths = [os.path.join(transformed_path, f\"iScan-Pcd-1-{i} - transformed.ply\") for i in i_include]\n",
    "\n",
    "# Define the command as a list of strings\n",
    "command_to_run = [\"python\", \"visualized_analysis.py\"]\n",
    "command_to_run.extend(file_paths)\n",
    "\n",
    "# Run the command\n",
    "run_command_realtime(command_to_run)"
   ]
  },
  {
   "cell_type": "markdown",
   "source": [
    "# Part 2. Plot analysis results"
   ],
   "metadata": {
    "collapsed": false
   }
  },
  {
   "cell_type": "code",
   "execution_count": null,
   "outputs": [],
   "source": [
    "import json\n",
    "import math\n",
    "import os\n",
    "\n",
    "import matplotlib.pyplot as plt\n",
    "import numpy as np\n",
    "\n",
    "# Load the JSON data\n",
    "json_file_path = os.path.join(\"data/\", \"analysis_results.json\")\n",
    "with open(json_file_path, 'r') as json_file:\n",
    "    data = json.load(json_file)\n",
    "\n",
    "# Extract data for plotting\n",
    "slice_data = []\n",
    "for file_info in data[\"files\"]:\n",
    "    for slice_info in file_info[\"slices\"]:\n",
    "        slice_data.append({\n",
    "            \"slice_number\": slice_info[\"slice_number\"],\n",
    "            \"left_slope\": slice_info[\"left_slope\"],\n",
    "            \"width_of_top_surface\": slice_info[\"width_of_top_surface\"]\n",
    "        })\n",
    "\n",
    "# Plot a figure every batch_size slices\n",
    "analysis_image_path = \"data/output/analysis_img\"\n",
    "os.makedirs(analysis_image_path, exist_ok=True)\n",
    "\n",
    "batch_size = 10\n",
    "num_batches = math.ceil(len(slice_data) / batch_size)\n",
    "\n",
    "for i in range(num_batches):\n",
    "    start_index = i * batch_size\n",
    "    end_index = (i + 1) * batch_size\n",
    "    batch_slice_data = slice_data[start_index:end_index]\n",
    "\n",
    "    slice_numbers = [item[\"slice_number\"] for item in batch_slice_data]\n",
    "    left_slopes = [item[\"left_slope\"] for item in batch_slice_data]\n",
    "    width_of_top_surface = [item[\"width_of_top_surface\"] for item in batch_slice_data]\n",
    "\n",
    "    # Create two subplots (one for left_slope, one for width_of_top_surface)\n",
    "    fig, (ax1, ax2) = plt.subplots(2, 1, figsize=(12, 8))\n",
    "    fig.suptitle(f\"Railway Track Information — Slice {slice_numbers[0]} to {slice_numbers[-1]}\", fontsize=14)\n",
    "\n",
    "    # Plot for left_slope\n",
    "    ideal_slope = 1.75\n",
    "    average_slope = np.mean(left_slopes)\n",
    "    ax1.plot(slice_numbers, left_slopes, label=\"Left Slope\", marker='s')\n",
    "    ax1.axhline(ideal_slope, color=\"red\", linestyle=\"--\", label=\"Ideal Slope\")\n",
    "    ax1.axhline(average_slope, color=\"limegreen\", linestyle=\"--\", label=\"Average Left Slope\")\n",
    "    ax1.set_ylabel(\"Left Slope\")\n",
    "    ax1.set_xticks(slice_numbers)\n",
    "    y_delta = np.ptp(left_slopes) * 0.2\n",
    "    y_min = min(min(left_slopes), ideal_slope) - y_delta\n",
    "    y_max = max(max(left_slopes), ideal_slope) + y_delta\n",
    "    ax1.set_ylim([y_min, y_max])\n",
    "    ax1.legend()\n",
    "\n",
    "    # Plot for width_of_top_surface\n",
    "    ideal_width = 3.1\n",
    "    average_width = np.mean(width_of_top_surface)\n",
    "    ax2.plot(slice_numbers, width_of_top_surface, label=\"Width of Top Surface\", marker='s')\n",
    "    ax2.axhline(ideal_width, color=\"red\", linestyle=\"--\", label=\"Ideal Width\")\n",
    "    ax2.axhline(average_width, color=\"limegreen\", linestyle=\"--\", label=\"Average Width\")\n",
    "    ax2.set_xlabel(\"Slice Number\")\n",
    "    ax2.set_ylabel(\"Width of Top Surface (m)\")\n",
    "    ax2.set_xticks(slice_numbers)\n",
    "    y_delta = np.ptp(width_of_top_surface) * 0.2\n",
    "    y_min = min(min(width_of_top_surface), ideal_width) - y_delta\n",
    "    y_max = max(max(width_of_top_surface), ideal_width) + y_delta\n",
    "    ax2.set_ylim([y_min, y_max])\n",
    "    ax2.legend()\n",
    "\n",
    "    # Add text annotations\n",
    "    for x, y in zip(slice_numbers, left_slopes):\n",
    "        ax1.annotate(f\"{y:.2f}\", xy=(x, y), textcoords=\"offset points\",\n",
    "                     xytext=(0, 10 if y >= average_slope else -20),\n",
    "                     ha=\"center\", fontsize=8, color=\"blue\")\n",
    "\n",
    "    for x, y in zip(slice_numbers, width_of_top_surface):\n",
    "        ax2.annotate(f\"{y:.2f}\", xy=(x, y), textcoords=\"offset points\",\n",
    "                     xytext=(0, 10 if y >= average_width else -20),\n",
    "                     ha=\"center\", fontsize=8, color=\"blue\")\n",
    "\n",
    "    # Add labels on the right side of y-axes\n",
    "    ax1.text(1.02, 0.5, f\"- Ideal Slope: {ideal_slope:.2f}\\n\\n\"\n",
    "                        f\"- Average Slope: {average_slope:.2f}\", transform=ax1.transAxes, va='center', fontsize=12)\n",
    "    ax2.text(1.02, 0.5, f\"- Ideal Width: {ideal_width:.2f}\\n\\n\"\n",
    "                        f\"- Average Width: {average_width:.2f}\", transform=ax2.transAxes, va='center', fontsize=12)\n",
    "\n",
    "    plt.tight_layout()\n",
    "\n",
    "    image_filename = os.path.join(analysis_image_path, f\"slice {slice_numbers[0]}-{slice_numbers[-1]}.png\")\n",
    "    fig.savefig(image_filename, format=\"png\", dpi=300)\n",
    "\n",
    "    plt.close(fig)"
   ],
   "metadata": {
    "collapsed": false
   }
  }
 ],
 "metadata": {
  "kernelspec": {
   "display_name": "Python 3 (ipykernel)",
   "language": "python",
   "name": "python3"
  },
  "language_info": {
   "codemirror_mode": {
    "name": "ipython",
    "version": 3
   },
   "file_extension": ".py",
   "mimetype": "text/x-python",
   "name": "python",
   "nbconvert_exporter": "python",
   "pygments_lexer": "ipython3",
   "version": "3.10.9"
  }
 },
 "nbformat": 4,
 "nbformat_minor": 1
}
