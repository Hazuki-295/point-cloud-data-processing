{
 "cells": [
  {
   "cell_type": "code",
   "execution_count": null,
   "metadata": {
    "pycharm": {
     "name": "#%%\n"
    }
   },
   "outputs": [],
   "source": [
    "import sys\n",
    "\n",
    "import open3d as o3d\n",
    "\n",
    "# Python version\n",
    "assert sys.version_info >= (3, 8)\n",
    "# Open3D version\n",
    "assert o3d.__version__ >= \"0.17.0\""
   ]
  },
  {
   "cell_type": "code",
   "execution_count": null,
   "metadata": {
    "pycharm": {
     "name": "#%%\n"
    }
   },
   "outputs": [],
   "source": [
    "# File directories\n",
    "input_path = \"data/input/\"\n",
    "preprocessed_path = \"data/preprocessed/\"\n",
    "transformed_path = \"data/transformed/\"\n",
    "output_path = \"data/output/\"\n",
    "\n",
    "i_include = list(range(1, 11))"
   ]
  },
  {
   "cell_type": "code",
   "execution_count": null,
   "outputs": [],
   "source": [
    "import subprocess\n",
    "import pty\n",
    "import os\n",
    "\n",
    "\n",
    "# Run a command and print its output in real-time.\n",
    "def run_command_realtime(command):\n",
    "    # Create a pseudo-terminal and spawn the subprocess\n",
    "    master, slave = pty.openpty()\n",
    "    process = subprocess.Popen(command, stdin=slave, stdout=slave, stderr=slave, universal_newlines=True)\n",
    "\n",
    "    # Close the slave file descriptor as it's not needed\n",
    "    os.close(slave)\n",
    "\n",
    "    # Read and print the output line by line in real-time\n",
    "    while True:\n",
    "        output_line = os.read(master, 1024).decode()\n",
    "        if not output_line:\n",
    "            break\n",
    "        print(output_line, end='', flush=True)\n",
    "\n",
    "    # Wait for the process to finish\n",
    "    process.wait()"
   ],
   "metadata": {
    "collapsed": false
   }
  },
  {
   "cell_type": "markdown",
   "metadata": {
    "pycharm": {
     "name": "#%% md\n"
    }
   },
   "source": [
    "# Part 1. Point Cloud Processing"
   ]
  },
  {
   "cell_type": "markdown",
   "metadata": {},
   "source": [
    "## Step 1. Preprocess"
   ]
  },
  {
   "cell_type": "code",
   "execution_count": null,
   "metadata": {
    "pycharm": {
     "name": "#%%\n"
    }
   },
   "outputs": [],
   "source": [
    "# List of file paths to process\n",
    "file_paths = [os.path.join(input_path, f\"iScan-Pcd-1-{i}.ply\") for i in i_include]\n",
    "\n",
    "# Define the command as a list of strings\n",
    "command_to_run = [\"python\", \"preprocess.py\"]\n",
    "command_to_run.extend(file_paths)\n",
    "\n",
    "# Run the command\n",
    "run_command_realtime(command_to_run)"
   ]
  },
  {
   "cell_type": "markdown",
   "metadata": {
    "pycharm": {
     "name": "#%% md\n"
    }
   },
   "source": [
    "## Step 2. Transform"
   ]
  },
  {
   "cell_type": "code",
   "execution_count": null,
   "metadata": {
    "pycharm": {
     "name": "#%%\n"
    }
   },
   "outputs": [],
   "source": [
    "# List of file paths to process\n",
    "file_paths = [os.path.join(preprocessed_path, f\"iScan-Pcd-1-{i} - preprocessed.ply\") for i in i_include]\n",
    "\n",
    "# Define the command as a list of strings\n",
    "command_to_run = [\"python\", \"transform.py\"]\n",
    "command_to_run.extend(file_paths)\n",
    "\n",
    "# Run the command\n",
    "run_command_realtime(command_to_run)"
   ]
  },
  {
   "cell_type": "markdown",
   "metadata": {
    "pycharm": {
     "name": "#%% md\n"
    }
   },
   "source": [
    "## Step 3. Visualized analysis"
   ]
  },
  {
   "cell_type": "code",
   "execution_count": null,
   "metadata": {},
   "outputs": [],
   "source": [
    "# List of file paths to process\n",
    "file_paths = [os.path.join(transformed_path, f\"iScan-Pcd-1-{i} - transformed.ply\") for i in i_include]\n",
    "\n",
    "# Define the command as a list of strings\n",
    "command_to_run = [\"python\", \"visualized_analysis.py\"]\n",
    "command_to_run.extend(file_paths)\n",
    "\n",
    "# Run the command\n",
    "run_command_realtime(command_to_run)"
   ]
  }
 ],
 "metadata": {
  "kernelspec": {
   "display_name": "Python 3 (ipykernel)",
   "language": "python",
   "name": "python3"
  },
  "language_info": {
   "codemirror_mode": {
    "name": "ipython",
    "version": 3
   },
   "file_extension": ".py",
   "mimetype": "text/x-python",
   "name": "python",
   "nbconvert_exporter": "python",
   "pygments_lexer": "ipython3",
   "version": "3.10.9"
  }
 },
 "nbformat": 4,
 "nbformat_minor": 1
}
